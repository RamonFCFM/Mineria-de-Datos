{
 "cells": [
  {
   "cell_type": "markdown",
   "metadata": {},
   "source": [
    "#Clasificacion\n",
    "Para esta actividad constara de crear con teorema de Naivy Bayes un ejercicio de aplicacion de combinacion de probabilidad con climas en el cual se puede o no jugar un partido."
   ]
  },
  {
   "cell_type": "code",
   "execution_count": 1,
   "metadata": {},
   "outputs": [],
   "source": [
    "#Los climas estan dados por 3 tipos Nublado, Lluvia y Soleado en el cual representan 1/3 de probabilidad cada uno de ellos\n",
    "#De los cuales tenemos probabilidaddes si se juega o no dependiendo el clima que se presente\n",
    "    # *Clima  * NO  * SI *\n",
    "    #*********************\n",
    "    # *Nublado*  0   * 4 *\n",
    "    # *Lluvia *  3   * 2 *\n",
    "    # *Soleado*  2   * 3 * "
   ]
  },
  {
   "cell_type": "code",
   "execution_count": 2,
   "metadata": {},
   "outputs": [],
   "source": [
    "#En base a la tabla crearemos 3 arreglos que nos serviran para guardar la cantidad de veces de SI y de No de un clima\n",
    "Clima = [4,5,5] #Total de veces en que se juega y no se juega segun el clima\n",
    "ClimaSi = [4,2,3] #Total de veces que SI se juega un partido en un clima\n",
    "ClimaNo = [0,3,2] #Total de veces que NO se juega un partido en un clima"
   ]
  },
  {
   "cell_type": "code",
   "execution_count": 6,
   "metadata": {},
   "outputs": [
    {
     "name": "stdout",
     "output_type": "stream",
     "text": [
      "Total de elementos (Climas SI/NO) = 14\n"
     ]
    }
   ],
   "source": [
    "#Declaramos variables que nos serviran para recorrer nuestros arreglos\n",
    "i = 0\n",
    "total = Clima[0]+Clima[1]+Clima[2] #sumamos toda las cantidades de climas que fueron Si y No que en total son 14\n",
    "print(\"Total de elementos (Climas SI/NO) =\",total)"
   ]
  },
  {
   "cell_type": "code",
   "execution_count": null,
   "metadata": {},
   "outputs": [],
   "source": []
  }
 ],
 "metadata": {
  "kernelspec": {
   "display_name": "Python 3",
   "language": "python",
   "name": "python3"
  },
  "language_info": {
   "codemirror_mode": {
    "name": "ipython",
    "version": 3
   },
   "file_extension": ".py",
   "mimetype": "text/x-python",
   "name": "python",
   "nbconvert_exporter": "python",
   "pygments_lexer": "ipython3",
   "version": "3.7.4"
  }
 },
 "nbformat": 4,
 "nbformat_minor": 2
}
