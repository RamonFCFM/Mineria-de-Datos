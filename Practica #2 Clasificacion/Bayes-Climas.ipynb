{
 "cells": [
  {
   "cell_type": "markdown",
   "metadata": {},
   "source": [
    "#Clasificacion\n",
    "Para esta actividad constara de crear con teorema de Naivy Bayes un ejercicio de aplicacion de combinacion de probabilidad con climas en el cual se puede o no jugar un partido."
   ]
  },
  {
   "cell_type": "code",
   "execution_count": 1,
   "metadata": {},
   "outputs": [],
   "source": [
    "#Los climas estan dados por 3 tipos Nublado, Lluvia y Soleado en el cual representan 1/3 de probabilidad cada uno de ellos\n",
    "#De los cuales tenemos probabilidaddes si se juega o no dependiendo el clima que se presente\n",
    "    # *Clima  * NO  * SI *\n",
    "    #*********************\n",
    "    # *Nublado*  0   * 4 *\n",
    "    # *Lluvia *  3   * 2 *\n",
    "    # *Soleado*  2   * 3 * "
   ]
  },
  {
   "cell_type": "code",
   "execution_count": 3,
   "metadata": {},
   "outputs": [],
   "source": [
    "#En base a la tabla crearemos 3 arreglos que nos serviran para guardar la cantidad de veces de SI y de No de un clima\n",
    "Clima = [4,5,5] #Total de veces en que se juega y no se juega segun el clima\n",
    "ClimaSi = [4,2,3] #Total de veces que SI se juega un partido en un clima\n",
    "ClimaNo = [0,3,2] #Total de veces que NO se juega un partido en un clima\n",
    "\n"
   ]
  },
  {
   "cell_type": "code",
   "execution_count": 8,
   "metadata": {},
   "outputs": [
    {
     "name": "stdout",
     "output_type": "stream",
     "text": [
      "Total de elementos (Climas SI/NO) = 14\n"
     ]
    }
   ],
   "source": [
    "#sumamos toda las cantidades de climas que fueron Si y No que en total son 14\n",
    "total = Clima[0]+Clima[1]+Clima[2] \n",
    "print(\"Total de elementos (Climas SI/NO) =\",total)\n",
    "\n",
    "#Sumamos las probabilidades individuales de los climas entre si y no\n",
    "totalSi = ClimaSi[0]+ClimaSi[1]+ClimaSi[2] #Total de probabilidades de SI\n",
    "totalNo = ClimaNo[0]+ClimaNo[1]+ClimaNo[2] #Total de probabilidades de NO\n",
    "\n",
    "\n"
   ]
  },
  {
   "cell_type": "code",
   "execution_count": 10,
   "metadata": {},
   "outputs": [
    {
     "name": "stdout",
     "output_type": "stream",
     "text": [
      "Elige la opcion de clima a probar:\n",
      "0-Nublado 1-Lluvia 2-Soleado Opcion:\n",
      "Opcion: 2\n"
     ]
    }
   ],
   "source": [
    "#implementamos un pequeño menu para seleccionar la opcion de elegir la probabilidad de un clima\n",
    "print(\"Elige la opcion de clima a probar:\")\n",
    "print(\"0-Nublado 1-Lluvia 2-Soleado Opcion:\")\n",
    "ClimaOpc = (int(input(\"Opcion: \")))\n",
    "\n",
    "Psi =((ClimaSi[ClimaOpc]/totalSi)*totalSi/total)/(Clima[ClimaOpc]/total) #Formula de Bayes P(Ai|B)=P(B)*P(B|Ai)\n",
    "Pno =((ClimaNo[ClimaOpc]/totalNo)*totalNo/total)/(Clima[ClimaOpc]/total)#                          -----------\n",
    "                                                                        #                              P(B)\n"
   ]
  },
  {
   "cell_type": "code",
   "execution_count": 11,
   "metadata": {},
   "outputs": [
    {
     "name": "stdout",
     "output_type": "stream",
     "text": [
      "P(Soleado|Si) P(Soleado|No)\n",
      "P(Soleado|Si) P(Soleado|No)\n",
      "P(Soleado|Si)=P(Si|Soleado)*P(Soleado)/P(Si) = 0.6\n",
      "P(Soleado|No)=P(No|Soleado)*P(Soleado)/P(No) = 0.39999999999999997\n"
     ]
    }
   ],
   "source": [
    "#Opcion para imprimir las probabilidades elegidas segun el tipo de Clima \n",
    "\n",
    "if ClimaOpc == 0:\n",
    "    print(\"P(Nublado|Si)\",\"P(Nublado|No)\")\n",
    "elif ClimaOpc ==1:\n",
    "    print(\"P(Lluvia|Si)\",\"P(Lluvia|No)\")\n",
    "elif ClimaOpc == 2:\n",
    "    print(\"P(Soleado|Si)\",\"P(Soleado|No)\")\n",
    "\n",
    "\n",
    "\n",
    "if ClimaOpc == 0: #Opcion para imprimir las opciones de probabilidad de Nublado\n",
    "    print(\"P(Nublado|Si)\",\"P(Nublado|No)\")\n",
    "    print(\"P(Nublado|Si)=P(Si|Nublado)*P(Nublado)/P(Si) =\",Psi)\n",
    "    print(\"P(Nublado|No)=P(No|Nublado)*P(Nublado)/P(No) =\",Pno)\n",
    "elif ClimaOpc ==1: #Opcion para imprimir las opciones de probabilidad de Lluvia\n",
    "    print(\"P(Lluvia|Si)\",\"P(Lluvia|No)\")\n",
    "    print(\"P(Lluvia|Si)=P(Si|Lluvia)*P(Lluvia)/P(Si) =\",Psi)\n",
    "    print(\"P(Lluvia|No)=P(No|Lluvia)*P(Lluvia)/P(No) =\",Pno)\n",
    "elif ClimaOpc == 2: #Opcion para imprimir las opciones de probabilidad de Soleado\n",
    "    print(\"P(Soleado|Si)\",\"P(Soleado|No)\")\n",
    "    print(\"P(Soleado|Si)=P(Si|Soleado)*P(Soleado)/P(Si) =\",Psi)\n",
    "    print(\"P(Soleado|No)=P(No|Soleado)*P(Soleado)/P(No) =\",Pno)\n"
   ]
  },
  {
   "cell_type": "code",
   "execution_count": null,
   "metadata": {},
   "outputs": [],
   "source": []
  }
 ],
 "metadata": {
  "kernelspec": {
   "display_name": "Python 3",
   "language": "python",
   "name": "python3"
  },
  "language_info": {
   "codemirror_mode": {
    "name": "ipython",
    "version": 3
   },
   "file_extension": ".py",
   "mimetype": "text/x-python",
   "name": "python",
   "nbconvert_exporter": "python",
   "pygments_lexer": "ipython3",
   "version": "3.7.4"
  }
 },
 "nbformat": 4,
 "nbformat_minor": 2
}
