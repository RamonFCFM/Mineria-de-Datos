{
 "cells": [
  {
   "cell_type": "markdown",
   "metadata": {},
   "source": [
    "#Clasificacion\n",
    "Para esta actividad constara de crear con teorema de Naivy Bayes un ejercicio de aplicacion de combinacion de probabilidad con climas en el cual se puede o no jugar un partido."
   ]
  },
  {
   "cell_type": "code",
   "execution_count": 1,
   "metadata": {},
   "outputs": [],
   "source": [
    "#Los climas estan dados por 3 tipos Nublado, Lluvia y Soleado en el cual representan 1/3 de probabilidad cada uno de ellos\n",
    "#De los cuales tenemos probabilidaddes si se juega o no dependiendo el clima que se presente\n",
    "    # *Clima  * NO  * SI *\n",
    "    #*********************\n",
    "    # *Nublado*  0   * 4 *\n",
    "    # *Lluvia *  3   * 2 *\n",
    "    # *Soleado*  2   * 3 * "
   ]
  },
  {
   "cell_type": "code",
   "execution_count": 41,
   "metadata": {},
   "outputs": [
    {
     "name": "stdout",
     "output_type": "stream",
     "text": [
      "Total de elementos (Climas SI/NO) = 14\n",
      "Elige la opcion de clima a probar:\n",
      "0-Nublado 1-Lluvia 2-Soleado Opcion:\n",
      "Opcion: 0\n",
      "P(Nublado|Si) P(Nublado|No)\n",
      "P(Nublado|Si)=P(Si|Nublado)*P(Nublado)/P(Si) = 1.0\n",
      "P(Nublado|No)=P(No|Nublado)*P(Nublado)/P(No) = 1.0\n"
     ]
    }
   ],
   "source": [
    "#En base a la tabla crearemos 3 arreglos que nos serviran para guardar la cantidad de veces de SI y de No de un clima\n",
    "Clima = [4,5,5] #Total de veces en que se juega y no se juega segun el clima\n",
    "ClimaSi = [4,2,3] #Total de veces que SI se juega un partido en un clima\n",
    "ClimaNo = [0,3,2] #Total de veces que NO se juega un partido en un clima\n",
    "\n",
    "#Declaramos variables que nos serviran para recorrer nuestros arreglos\n",
    "i = 0\n",
    "total = Clima[0]+Clima[1]+Clima[2] #sumamos toda las cantidades de climas que fueron Si y No que en total son 14\n",
    "print(\"Total de elementos (Climas SI/NO) =\",total)\n",
    "\n",
    "#Sumamos las probabilidades individuales de los climas entre si y no\n",
    "totalSi = ClimaSi[0]+ClimaSi[1]+ClimaSi[2]\n",
    "totalNo = ClimaNo[0]+ClimaNo[1]+ClimaNo[2]\n",
    "\n",
    "#implementamos un pequeño menu para seleccionar la opcion de elegir la probabilidad de un clima\n",
    "print(\"Elige la opcion de clima a probar:\")\n",
    "print(\"0-Nublado 1-Lluvia 2-Soleado Opcion:\")\n",
    "ClimaOpc = (int(input(\"Opcion: \")))\n",
    "\n",
    "#Opcion para imprimir las probabilidades elegidas\n",
    "if ClimaOpc == 0:\n",
    "    print(\"P(Nublado|Si)\",\"P(Nublado|No)\")\n",
    "elif ClimaOpc ==1:\n",
    "    print(\"P(Lluvia|Si)\",\"P(Lluvia|No)\")\n",
    "elif ClimaOpc == 2:\n",
    "    print(\"P(Soleado|Si)\",\"P(Soleado|No)\")\n",
    "\n",
    "Psi =((Clima[ClimaOpc]/totalSi)*totalSi/total)/(Clima[ClimaOpc]/total)\n",
    "Pno =((Clima[ClimaOpc]/totalNo)*totalNo/total)/(Clima[ClimaOpc]/total)\n",
    "print(\"P(Nublado|Si)=P(Si|Nublado)*P(Nublado)/P(Si) =\",Psi)\n",
    "print(\"P(Nublado|No)=P(No|Nublado)*P(Nublado)/P(No) =\",Pno)"
   ]
  },
  {
   "cell_type": "code",
   "execution_count": null,
   "metadata": {},
   "outputs": [],
   "source": []
  },
  {
   "cell_type": "code",
   "execution_count": null,
   "metadata": {},
   "outputs": [],
   "source": []
  },
  {
   "cell_type": "code",
   "execution_count": 25,
   "metadata": {},
   "outputs": [],
   "source": [
    "\n"
   ]
  },
  {
   "cell_type": "code",
   "execution_count": null,
   "metadata": {},
   "outputs": [],
   "source": []
  },
  {
   "cell_type": "code",
   "execution_count": null,
   "metadata": {},
   "outputs": [],
   "source": []
  },
  {
   "cell_type": "code",
   "execution_count": null,
   "metadata": {},
   "outputs": [],
   "source": []
  }
 ],
 "metadata": {
  "kernelspec": {
   "display_name": "Python 3",
   "language": "python",
   "name": "python3"
  },
  "language_info": {
   "codemirror_mode": {
    "name": "ipython",
    "version": 3
   },
   "file_extension": ".py",
   "mimetype": "text/x-python",
   "name": "python",
   "nbconvert_exporter": "python",
   "pygments_lexer": "ipython3",
   "version": "3.7.4"
  }
 },
 "nbformat": 4,
 "nbformat_minor": 2
}
