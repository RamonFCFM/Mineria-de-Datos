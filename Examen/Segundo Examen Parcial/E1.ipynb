{
 "cells": [
  {
   "cell_type": "markdown",
   "metadata": {},
   "source": [
    "# Examen 2: Ejercicios de Python.\n"
   ]
  },
  {
   "cell_type": "markdown",
   "metadata": {},
   "source": [
    "Al momento de responder las preguntas, cerciorense de que les imprima el resultado. "
   ]
  },
  {
   "cell_type": "markdown",
   "metadata": {},
   "source": [
    "### 1.- Dando lista A = [3, 2, 7, 4, 12, 9, 6, 1] desarrolla los siguientes 3 ejercicios.\n",
    "\n",
    "- Imprime la sumatoria de todos los elementos.\n",
    "- Ordenalos de mayor a menor.\n",
    "- Haz una nueva lista pero solo con sus elementos pares."
   ]
  },
  {
   "cell_type": "code",
   "execution_count": 6,
   "metadata": {},
   "outputs": [
    {
     "name": "stdout",
     "output_type": "stream",
     "text": [
      "La sumatoria de la lista es: 44\n"
     ]
    }
   ],
   "source": [
    "#(Puntos 5)\n",
    "# Imprime la sumatoria de todos los elementos en a = [3, 2, 7, 4, 12, 9, 6, 1].\n",
    "a = [3, 2, 7, 4, 12, 9, 6, 1]\n",
    "def sumatoria(a):\n",
    "    suma=0\n",
    "    for i in a:\n",
    "        suma = suma + i\n",
    "    return suma\n",
    "print(\"La sumatoria de la lista es:\",sumatoria(a))"
   ]
  },
  {
   "cell_type": "code",
   "execution_count": 19,
   "metadata": {},
   "outputs": [
    {
     "name": "stdout",
     "output_type": "stream",
     "text": [
      "lista ordenada con bubble sort\n",
      "[3, 2, 7, 4, 12, 9, 6, 1]\n"
     ]
    }
   ],
   "source": [
    "#(Puntos 10)\n",
    "# Ordenalos de mayor a menor\n",
    "a = [3, 2, 7, 4, 12, 9, 6, 1]\n",
    "def ordenarLista(a):\n",
    "    for i in range(len(a)-1,0,-1):\n",
    "        for i in range(i):\n",
    "            if a[i]<a[i+1]:\n",
    "                aux = a[i]\n",
    "                a[i] = a[i+1]\n",
    "                a[i+1] = aux\n",
    "    return \" \"\n",
    "print(\"lista ordenada con bubble sort\")\n",
    "print(a)\n",
    "    \n",
    "    "
   ]
  },
  {
   "cell_type": "code",
   "execution_count": 32,
   "metadata": {},
   "outputs": [
    {
     "name": "stdout",
     "output_type": "stream",
     "text": [
      "La nueva Lista con pares es: [2, 4, 12, 6]\n",
      "[2, 4, 12, 6]\n"
     ]
    }
   ],
   "source": [
    "#(Puntos 10)\n",
    "# Haz una nueva lista pero solo con sus elementos pares\n",
    "a = [3, 2, 7, 4, 12, 9, 6, 1]\n",
    "\n",
    "def pares(a):\n",
    "    ParesList = []\n",
    "    for i in a:\n",
    "        if i % 2 ==0:\n",
    "            ParesList.append(i)\n",
    "    return ParesList\n",
    "print(\"La nueva Lista con pares es:\",pares(a))\n",
    "print(ParesList)"
   ]
  },
  {
   "cell_type": "markdown",
   "metadata": {},
   "source": [
    "### 2.- Dale valor a dos variables y realiza 5 funciones que regresen como resultado diferentes operaciones aritmeticas (suma, resta, etc...). "
   ]
  },
  {
   "cell_type": "code",
   "execution_count": 55,
   "metadata": {},
   "outputs": [
    {
     "name": "stdout",
     "output_type": "stream",
     "text": [
      "La suma de a + b es: 9\n",
      "La resta de a - b es: -1\n",
      "La multiplicacion de a * b es: 20\n",
      "La division de a / b es: 0.8\n",
      "La exponencial de a eleavado b es: 1024\n"
     ]
    }
   ],
   "source": [
    "#(Puntos 15)\n",
    "a = 4\n",
    "b = 5\n",
    "\n",
    "def Suma(a,b):\n",
    "    suma=0\n",
    "    suma= a+b\n",
    "    return suma\n",
    "print(\"La suma de a + b es:\",Suma(a,b))\n",
    "\n",
    "def Resta(a,b):\n",
    "    resta=0\n",
    "    resta= a-b\n",
    "    return resta\n",
    "print(\"La resta de a - b es:\",Resta(a,b))\n",
    "\n",
    "\n",
    "def Multiplicacion(a,b):\n",
    "    multi=0\n",
    "    multi= a*b\n",
    "    return multi\n",
    "print(\"La multiplicacion de a * b es:\",Multiplicacion(a,b))\n",
    "\n",
    "\n",
    "def Division(a,b):\n",
    "    div=0\n",
    "    div= a/b\n",
    "    return div\n",
    "print(\"La division de a / b es:\",Division(a,b))\n",
    "\n",
    "\n",
    "def Exponencial(a,b):\n",
    "    exp=0\n",
    "    exp= a**b\n",
    "    return exp\n",
    "print(\"La exponencial de a eleavado b es:\",Exponencial(a,b))\n",
    "\n",
    "\n",
    "\n"
   ]
  },
  {
   "cell_type": "markdown",
   "metadata": {},
   "source": [
    "### 3.- Dada la lista A = [3, 2, 7, 4, 12, 9, 6, 1] y lista B = [13, 16, 21, 34, 18, 17, 11, 10] crea una lista nueva que contenga solo los datos impares de ambas listas."
   ]
  },
  {
   "cell_type": "code",
   "execution_count": 5,
   "metadata": {},
   "outputs": [
    {
     "name": "stdout",
     "output_type": "stream",
     "text": [
      "La nueva Lista con pares es: [2, 4, 12, 6, 16, 34, 18, 10]\n",
      "[2, 4, 12, 6, 16, 34, 18, 10]\n"
     ]
    }
   ],
   "source": [
    "#(Puntos 15)\n",
    "A = [3, 2, 7, 4, 12, 9, 6, 1] \n",
    "B = [13, 16, 21, 34, 18, 17, 11, 10]\n",
    "A.extend(B)\n",
    "ParesList = []\n",
    "def pares(A):\n",
    "    \n",
    "    for i in A:\n",
    "        if i % 2 ==0:\n",
    "            ParesList.append(i)\n",
    "    return ParesList\n",
    "print(\"La nueva Lista con pares es:\",pares(A))\n",
    "print(ParesList)\n",
    "\n"
   ]
  },
  {
   "cell_type": "markdown",
   "metadata": {},
   "source": [
    "### 4.- Dadas las variables W = 11, X = 17, Y = 32, Z = 65, crea una función que clasifique por grupos de edad (niño, adolecente, adulto, adulto mayor. (Utiliza el elif)"
   ]
  },
  {
   "cell_type": "code",
   "execution_count": 36,
   "metadata": {},
   "outputs": [
    {
     "name": "stdout",
     "output_type": "stream",
     "text": [
      "La edad corresponde a un niño\n",
      " \n",
      "La edad corresponde a un adolescente\n",
      " \n",
      "La edad corresponde a un adulto\n",
      " \n",
      "La edad corresponde a un adulto mayor\n",
      " \n"
     ]
    }
   ],
   "source": [
    "#(Puntos 15)\n",
    "w=11\n",
    "x=17\n",
    "y=32\n",
    "z=65\n",
    "\n",
    "def edades(edad):\n",
    "    if edad<12:\n",
    "        print(\"La edad corresponde a un niño\")\n",
    "    elif edad>=12 and edad<18:\n",
    "        print(\"La edad corresponde a un adolescente\")\n",
    "    elif edad>=18 and edad<60:    \n",
    "        print(\"La edad corresponde a un adulto\")\n",
    "    elif edad>=60 and edad<100:\n",
    "        print(\"La edad corresponde a un adulto mayor\")\n",
    "    return \" \"\n",
    "\n",
    "print(edades(w))\n",
    "print(edades(x))\n",
    "print(edades(y))\n",
    "print(edades(z))\n"
   ]
  },
  {
   "cell_type": "markdown",
   "metadata": {},
   "source": [
    "### 5.- Utilizando cualquiera de las condicionales (for, if, while...) imprime los siguientes patrones tal y como aparecen en el comentario, respetando los espacios y los saltos de renglon.\n"
   ]
  },
  {
   "cell_type": "code",
   "execution_count": 26,
   "metadata": {},
   "outputs": [
    {
     "name": "stdout",
     "output_type": "stream",
     "text": [
      "\t\n",
      "1 \t\n",
      "2 2 \t\n",
      "3 3 3 \t\n",
      "4 4 4 4 \t\n",
      "5 5 5 5 5 \t\n"
     ]
    }
   ],
   "source": [
    "#(Puntos 10)\n",
    "#1 \n",
    "#2 2\n",
    "#3 3 3\n",
    "#4 4 4 4\n",
    "#5 5 5 5 5\n",
    "\n",
    "for i in range(6):\n",
    "    aux = i\n",
    "    for i in range(i):\n",
    "        print(aux, end= \" \")\n",
    "    print(\"\\t\")\n"
   ]
  },
  {
   "cell_type": "code",
   "execution_count": 31,
   "metadata": {},
   "outputs": [
    {
     "name": "stdout",
     "output_type": "stream",
     "text": [
      "5 4 3 2 1 \t\n",
      "4 3 2 1 \t\n",
      "3 2 1 \t\n",
      "2 1 \t\n",
      "1 \t\n"
     ]
    }
   ],
   "source": [
    "#(Puntos 15)\n",
    "#5 4 3 2 1 \n",
    "#4 3 2 1\n",
    "#3 2 1 \n",
    "#2 1\n",
    "#1\n",
    "\n",
    "n=6\n",
    "for i in range(5):\n",
    "    aux=n\n",
    "    n=n-1\n",
    "    for i in range(5-i):\n",
    "        aux=n-i\n",
    "        print(aux, end = \" \")\n",
    "    print(\"\\t\")"
   ]
  },
  {
   "cell_type": "markdown",
   "metadata": {},
   "source": [
    "### 6.- Con la lista A = [3, 2, 7, 4, 12, 9, 6, 1] y el uso de condicionales, imprime una nueva lista con cada uno de los elementos de la lista A, al cuadrado."
   ]
  },
  {
   "cell_type": "code",
   "execution_count": 38,
   "metadata": {},
   "outputs": [
    {
     "name": "stdout",
     "output_type": "stream",
     "text": [
      "Lista de elementos al cuadrado: [9, 4, 49, 16, 144, 81, 36, 1]\n",
      "[9, 4, 49, 16, 144, 81, 36, 1]\n"
     ]
    }
   ],
   "source": [
    "#(Puntos 10)\n",
    "A = [3, 2, 7, 4, 12, 9, 6, 1]\n",
    "\n",
    "def cuadradoList(A):\n",
    "    Cuadrados = []\n",
    "    for i in A:\n",
    "        suma = i ** 2\n",
    "        Cuadrados.append(suma)\n",
    "    return Cuadrados\n",
    "print(\"Lista de elementos al cuadrado:\",cuadradoList(A))\n",
    "print(Cuadrados)"
   ]
  },
  {
   "cell_type": "markdown",
   "metadata": {},
   "source": [
    "### (Extra puntos 5.) \n",
    "\n",
    "Conteste los tres puntos para obtener la totalidad de los puntos.\n",
    "*Mencione al menos 3 palabras reservadas para el lenguaje de programación de Python.\n",
    "*Describa la diferencia principal entre las listas y las tuplas en Python.\n",
    "*Describa para que sirve el condicional ELIF.\n",
    "\n",
    "* 1.Palabras reservadas: if,for,while,return,def,as.\n",
    "* 2.Diferencias entre listas y tuplas. : las listas y tuplas se pueden guardar informacion, la diferencia es que las listas se pueden manipulas o modificar en cambio las tuplas no se pueden modificar.\n",
    "* 3.ELIF: sirve para hacer continuacion dentro de un if, para seguir continudo dentro del mismo, ya que es incorrecto realizar muchas sentencias if por separado."
   ]
  },
  {
   "cell_type": "code",
   "execution_count": null,
   "metadata": {},
   "outputs": [],
   "source": []
  }
 ],
 "metadata": {
  "kernelspec": {
   "display_name": "Python 3",
   "language": "python",
   "name": "python3"
  },
  "language_info": {
   "codemirror_mode": {
    "name": "ipython",
    "version": 3
   },
   "file_extension": ".py",
   "mimetype": "text/x-python",
   "name": "python",
   "nbconvert_exporter": "python",
   "pygments_lexer": "ipython3",
   "version": "3.7.4"
  }
 },
 "nbformat": 4,
 "nbformat_minor": 2
}
