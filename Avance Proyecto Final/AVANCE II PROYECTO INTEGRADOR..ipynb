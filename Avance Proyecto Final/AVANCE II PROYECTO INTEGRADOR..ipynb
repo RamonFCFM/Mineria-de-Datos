{
 "cells": [
  {
   "cell_type": "markdown",
   "metadata": {},
   "source": [
    "# Avance II Proyecto Final \n",
    "### Equipo #3\n",
    "### Grupo: 006 \n",
    "### Frecuencia : Lunes, Miercoles,Viernes  6-7 pm\n",
    "### Integrantes : \n",
    "* Francisco Ramon Ramirez Torres 1739900. \n",
    "* Cesar Gerardo Varela Cavazos 1748727. \n",
    "* Cesar Alejandro Barrera Martinez 1618509 \n",
    "\n"
   ]
  },
  {
   "cell_type": "markdown",
   "metadata": {},
   "source": [
    "## Titulo: Video Games Sales. (Información histórica de ventas de videojuegos)"
   ]
  },
  {
   "cell_type": "markdown",
   "metadata": {},
   "source": [
    "## Descripcion de la Base de Datos:\n",
    "\n",
    "Esta base de datos contiene toda la historia de los videojuegos lanzados en su respectivo, año fundada en una empresa en particular, con su respectiva plataforma y las ventas que ha tenido en el Norte de América, EE. UU, Japón, etc. Al igual que las ventas globales que ha tenido."
   ]
  },
  {
   "cell_type": "markdown",
   "metadata": {},
   "source": [
    "## Descripción de las columnas:\n",
    "* Contiene nombre, genero, año de publicación, plataforma, empresa desarrolladora, ventas en Estados Unidos, Norteamérica, Japón y categoría.\n",
    "* Los tipos de datos que contiene la base de datos son String, flotantes, carácter, contando con aproximadamente 10 mil registros de los videojuegos.\n",
    "\n"
   ]
  },
  {
   "cell_type": "markdown",
   "metadata": {},
   "source": [
    "## Justificación del uso de los datos.\n",
    "* a). Cuáles fueron las características que les llamó la atención de los datos. Qué les hizo querer trabajar con ellos.\n",
    "    La diversa información acerca de los videojuegos, como la distribución de venta, popularidad de videojuegos, diversa variedad con géneros en los títulos de videojuegos y competencia entre empresas que tienen juegos similares en popularidad.\n",
    "\n",
    "* b) Qué beneficio encuentran de trabajar con estos datos.\n",
    "  Poder encontrar algún beneficio de manera que podemos calcular un precio estimado de un videojuego, ver un análisis de ventas sobre cómo se han visto ventas con otras empresas, podemos ver qué clase de videojuegos se han vendido más a través de los años según su aceptación para las empresas que se dedican a crear juegos puedan saber que género es el que deben crear más.\n"
   ]
  },
  {
   "cell_type": "markdown",
   "metadata": {},
   "source": [
    "## Preguntas de Interes\n",
    "* ¿Cuál es la aceptación de videojuegos dada una empresa (SNK) ?\n",
    "\n",
    "* ¿Con los datos de la base de datos de videojuegos como se pueden clasificar aplicando algún método de minería de datos?\n",
    "\n",
    "* ¿ Cuál es el comportamiento de las empresas con sus respectivas ventas en Norte America o Japon ?\n",
    "\n",
    "* ¿ Cuál es la plataforma de videojuegos con mayores ventas de videojuegos en un genero especifico (peleas,disparos,Carreras) ?\n"
   ]
  },
  {
   "cell_type": "markdown",
   "metadata": {},
   "source": [
    "## 1. Limpieza de datos\n"
   ]
  },
  {
   "cell_type": "code",
   "execution_count": 1,
   "metadata": {},
   "outputs": [
    {
     "name": "stderr",
     "output_type": "stream",
     "text": [
      "C:\\Users\\Franc\\Anaconda3\\lib\\site-packages\\statsmodels\\tools\\_testing.py:19: FutureWarning: pandas.util.testing is deprecated. Use the functions in the public API at pandas.testing instead.\n",
      "  import pandas.util.testing as tm\n"
     ]
    }
   ],
   "source": [
    "import numpy as np\n",
    "import pandas as pd\n",
    "import seaborn as sn\n",
    "import pandas_profiling \n",
    "import matplotlib.pyplot as plt\n",
    "%matplotlib inline"
   ]
  },
  {
   "cell_type": "markdown",
   "metadata": {},
   "source": [
    "* Importación de librerías necesarias para utilizar nuestra base de datos y realizar acciones de limpieza y graficas estadísticas."
   ]
  },
  {
   "cell_type": "code",
   "execution_count": 4,
   "metadata": {},
   "outputs": [],
   "source": [
    "games = pd.read_csv(\"train.csv\")"
   ]
  },
  {
   "cell_type": "markdown",
   "metadata": {},
   "source": [
    "* Con esta variable games la usaremos para abrir nuestra BD de los videojuegos."
   ]
  },
  {
   "cell_type": "markdown",
   "metadata": {},
   "source": [
    "###### a)\tMostrar los datos sin manipulación"
   ]
  },
  {
   "cell_type": "code",
   "execution_count": 35,
   "metadata": {},
   "outputs": [
    {
     "data": {
      "text/html": [
       "<div>\n",
       "<style scoped>\n",
       "    .dataframe tbody tr th:only-of-type {\n",
       "        vertical-align: middle;\n",
       "    }\n",
       "\n",
       "    .dataframe tbody tr th {\n",
       "        vertical-align: top;\n",
       "    }\n",
       "\n",
       "    .dataframe thead th {\n",
       "        text-align: right;\n",
       "    }\n",
       "</style>\n",
       "<table border=\"1\" class=\"dataframe\">\n",
       "  <thead>\n",
       "    <tr style=\"text-align: right;\">\n",
       "      <th></th>\n",
       "      <th>Name</th>\n",
       "      <th>Platform</th>\n",
       "      <th>Year_of_Release</th>\n",
       "      <th>Genre</th>\n",
       "      <th>Publisher</th>\n",
       "      <th>NA_Sales</th>\n",
       "      <th>EU_Sales</th>\n",
       "      <th>JP_Sales</th>\n",
       "      <th>Other_Sales</th>\n",
       "      <th>Critic_Score</th>\n",
       "      <th>Critic_Count</th>\n",
       "      <th>User_Score</th>\n",
       "      <th>User_Count</th>\n",
       "      <th>Developer</th>\n",
       "      <th>Rating</th>\n",
       "    </tr>\n",
       "  </thead>\n",
       "  <tbody>\n",
       "    <tr>\n",
       "      <th>0</th>\n",
       "      <td>Rapala Trophies</td>\n",
       "      <td>PSP</td>\n",
       "      <td>2006.0</td>\n",
       "      <td>Sports</td>\n",
       "      <td>Activision</td>\n",
       "      <td>0.04</td>\n",
       "      <td>0.00</td>\n",
       "      <td>0.00</td>\n",
       "      <td>0.00</td>\n",
       "      <td>NaN</td>\n",
       "      <td>NaN</td>\n",
       "      <td>NaN</td>\n",
       "      <td>NaN</td>\n",
       "      <td>Sand Grain Studios</td>\n",
       "      <td>E</td>\n",
       "    </tr>\n",
       "    <tr>\n",
       "      <th>1</th>\n",
       "      <td>New Super Mario Bros. U</td>\n",
       "      <td>WiiU</td>\n",
       "      <td>2012.0</td>\n",
       "      <td>Platform</td>\n",
       "      <td>Nintendo</td>\n",
       "      <td>2.30</td>\n",
       "      <td>1.34</td>\n",
       "      <td>1.27</td>\n",
       "      <td>0.32</td>\n",
       "      <td>84.0</td>\n",
       "      <td>70.0</td>\n",
       "      <td>8.1</td>\n",
       "      <td>733.0</td>\n",
       "      <td>Nintendo</td>\n",
       "      <td>E</td>\n",
       "    </tr>\n",
       "    <tr>\n",
       "      <th>2</th>\n",
       "      <td>Robots</td>\n",
       "      <td>PS2</td>\n",
       "      <td>2005.0</td>\n",
       "      <td>Action</td>\n",
       "      <td>Vivendi Games</td>\n",
       "      <td>0.18</td>\n",
       "      <td>0.14</td>\n",
       "      <td>0.00</td>\n",
       "      <td>0.05</td>\n",
       "      <td>53.0</td>\n",
       "      <td>6.0</td>\n",
       "      <td>6.0</td>\n",
       "      <td>8.0</td>\n",
       "      <td>Eurocom Entertainment Software</td>\n",
       "      <td>E</td>\n",
       "    </tr>\n",
       "    <tr>\n",
       "      <th>3</th>\n",
       "      <td>Hamster Club 3</td>\n",
       "      <td>GBA</td>\n",
       "      <td>2002.0</td>\n",
       "      <td>Simulation</td>\n",
       "      <td>Jorudan</td>\n",
       "      <td>0.00</td>\n",
       "      <td>0.00</td>\n",
       "      <td>0.35</td>\n",
       "      <td>0.01</td>\n",
       "      <td>NaN</td>\n",
       "      <td>NaN</td>\n",
       "      <td>NaN</td>\n",
       "      <td>NaN</td>\n",
       "      <td>NaN</td>\n",
       "      <td>NaN</td>\n",
       "    </tr>\n",
       "    <tr>\n",
       "      <th>4</th>\n",
       "      <td>Formula 1 06</td>\n",
       "      <td>PS2</td>\n",
       "      <td>2006.0</td>\n",
       "      <td>Racing</td>\n",
       "      <td>Sony Computer Entertainment</td>\n",
       "      <td>0.00</td>\n",
       "      <td>0.00</td>\n",
       "      <td>0.04</td>\n",
       "      <td>0.00</td>\n",
       "      <td>NaN</td>\n",
       "      <td>NaN</td>\n",
       "      <td>NaN</td>\n",
       "      <td>NaN</td>\n",
       "      <td>NaN</td>\n",
       "      <td>NaN</td>\n",
       "    </tr>\n",
       "  </tbody>\n",
       "</table>\n",
       "</div>"
      ],
      "text/plain": [
       "                      Name Platform  Year_of_Release       Genre  \\\n",
       "0          Rapala Trophies      PSP           2006.0      Sports   \n",
       "1  New Super Mario Bros. U     WiiU           2012.0    Platform   \n",
       "2                   Robots      PS2           2005.0      Action   \n",
       "3           Hamster Club 3      GBA           2002.0  Simulation   \n",
       "4             Formula 1 06      PS2           2006.0      Racing   \n",
       "\n",
       "                     Publisher  NA_Sales  EU_Sales  JP_Sales  Other_Sales  \\\n",
       "0                   Activision      0.04      0.00      0.00         0.00   \n",
       "1                     Nintendo      2.30      1.34      1.27         0.32   \n",
       "2                Vivendi Games      0.18      0.14      0.00         0.05   \n",
       "3                      Jorudan      0.00      0.00      0.35         0.01   \n",
       "4  Sony Computer Entertainment      0.00      0.00      0.04         0.00   \n",
       "\n",
       "   Critic_Score  Critic_Count  User_Score  User_Count  \\\n",
       "0           NaN           NaN         NaN         NaN   \n",
       "1          84.0          70.0         8.1       733.0   \n",
       "2          53.0           6.0         6.0         8.0   \n",
       "3           NaN           NaN         NaN         NaN   \n",
       "4           NaN           NaN         NaN         NaN   \n",
       "\n",
       "                        Developer Rating  \n",
       "0              Sand Grain Studios      E  \n",
       "1                        Nintendo      E  \n",
       "2  Eurocom Entertainment Software      E  \n",
       "3                             NaN    NaN  \n",
       "4                             NaN    NaN  "
      ]
     },
     "execution_count": 35,
     "metadata": {},
     "output_type": "execute_result"
    }
   ],
   "source": [
    "games.head()"
   ]
  },
  {
   "cell_type": "markdown",
   "metadata": {},
   "source": [
    "* Usamos la funcion head() para mostrar los primeros 5 registros solo para revisar si cargo correctamente"
   ]
  },
  {
   "cell_type": "code",
   "execution_count": 36,
   "metadata": {},
   "outputs": [
    {
     "data": {
      "text/html": [
       "<div>\n",
       "<style scoped>\n",
       "    .dataframe tbody tr th:only-of-type {\n",
       "        vertical-align: middle;\n",
       "    }\n",
       "\n",
       "    .dataframe tbody tr th {\n",
       "        vertical-align: top;\n",
       "    }\n",
       "\n",
       "    .dataframe thead th {\n",
       "        text-align: right;\n",
       "    }\n",
       "</style>\n",
       "<table border=\"1\" class=\"dataframe\">\n",
       "  <thead>\n",
       "    <tr style=\"text-align: right;\">\n",
       "      <th></th>\n",
       "      <th>Name</th>\n",
       "      <th>Platform</th>\n",
       "      <th>Year_of_Release</th>\n",
       "      <th>Genre</th>\n",
       "      <th>Publisher</th>\n",
       "      <th>NA_Sales</th>\n",
       "      <th>EU_Sales</th>\n",
       "      <th>JP_Sales</th>\n",
       "      <th>Other_Sales</th>\n",
       "      <th>Critic_Score</th>\n",
       "      <th>Critic_Count</th>\n",
       "      <th>User_Score</th>\n",
       "      <th>User_Count</th>\n",
       "      <th>Developer</th>\n",
       "      <th>Rating</th>\n",
       "    </tr>\n",
       "  </thead>\n",
       "  <tbody>\n",
       "    <tr>\n",
       "      <th>11698</th>\n",
       "      <td>Call of Duty: Black Ops</td>\n",
       "      <td>X360</td>\n",
       "      <td>2010.0</td>\n",
       "      <td>Shooter</td>\n",
       "      <td>Activision</td>\n",
       "      <td>9.70</td>\n",
       "      <td>3.68</td>\n",
       "      <td>0.11</td>\n",
       "      <td>1.13</td>\n",
       "      <td>87.0</td>\n",
       "      <td>89.0</td>\n",
       "      <td>6.3</td>\n",
       "      <td>1454.0</td>\n",
       "      <td>Treyarch</td>\n",
       "      <td>M</td>\n",
       "    </tr>\n",
       "    <tr>\n",
       "      <th>11699</th>\n",
       "      <td>Resistance 3</td>\n",
       "      <td>PS3</td>\n",
       "      <td>2011.0</td>\n",
       "      <td>Shooter</td>\n",
       "      <td>Sony Computer Entertainment</td>\n",
       "      <td>0.64</td>\n",
       "      <td>0.57</td>\n",
       "      <td>0.05</td>\n",
       "      <td>0.22</td>\n",
       "      <td>83.0</td>\n",
       "      <td>91.0</td>\n",
       "      <td>7.8</td>\n",
       "      <td>543.0</td>\n",
       "      <td>Insomniac Games</td>\n",
       "      <td>M</td>\n",
       "    </tr>\n",
       "    <tr>\n",
       "      <th>11700</th>\n",
       "      <td>Ready 2 Rumble Revolution</td>\n",
       "      <td>Wii</td>\n",
       "      <td>2009.0</td>\n",
       "      <td>Sports</td>\n",
       "      <td>Atari</td>\n",
       "      <td>0.15</td>\n",
       "      <td>0.00</td>\n",
       "      <td>0.00</td>\n",
       "      <td>0.01</td>\n",
       "      <td>37.0</td>\n",
       "      <td>31.0</td>\n",
       "      <td>NaN</td>\n",
       "      <td>NaN</td>\n",
       "      <td>10tacle Studios</td>\n",
       "      <td>T</td>\n",
       "    </tr>\n",
       "    <tr>\n",
       "      <th>11701</th>\n",
       "      <td>Monster Hunter Frontier Online: Forward 2</td>\n",
       "      <td>X360</td>\n",
       "      <td>2011.0</td>\n",
       "      <td>Role-Playing</td>\n",
       "      <td>Capcom</td>\n",
       "      <td>0.00</td>\n",
       "      <td>0.00</td>\n",
       "      <td>0.03</td>\n",
       "      <td>0.00</td>\n",
       "      <td>NaN</td>\n",
       "      <td>NaN</td>\n",
       "      <td>NaN</td>\n",
       "      <td>NaN</td>\n",
       "      <td>NaN</td>\n",
       "      <td>NaN</td>\n",
       "    </tr>\n",
       "    <tr>\n",
       "      <th>11702</th>\n",
       "      <td>NHL 2K9</td>\n",
       "      <td>PS3</td>\n",
       "      <td>2008.0</td>\n",
       "      <td>Sports</td>\n",
       "      <td>Take-Two Interactive</td>\n",
       "      <td>0.11</td>\n",
       "      <td>0.01</td>\n",
       "      <td>0.00</td>\n",
       "      <td>0.01</td>\n",
       "      <td>70.0</td>\n",
       "      <td>21.0</td>\n",
       "      <td>NaN</td>\n",
       "      <td>NaN</td>\n",
       "      <td>Visual Concepts</td>\n",
       "      <td>E10+</td>\n",
       "    </tr>\n",
       "  </tbody>\n",
       "</table>\n",
       "</div>"
      ],
      "text/plain": [
       "                                            Name Platform  Year_of_Release  \\\n",
       "11698                    Call of Duty: Black Ops     X360           2010.0   \n",
       "11699                               Resistance 3      PS3           2011.0   \n",
       "11700                  Ready 2 Rumble Revolution      Wii           2009.0   \n",
       "11701  Monster Hunter Frontier Online: Forward 2     X360           2011.0   \n",
       "11702                                    NHL 2K9      PS3           2008.0   \n",
       "\n",
       "              Genre                    Publisher  NA_Sales  EU_Sales  \\\n",
       "11698       Shooter                   Activision      9.70      3.68   \n",
       "11699       Shooter  Sony Computer Entertainment      0.64      0.57   \n",
       "11700        Sports                        Atari      0.15      0.00   \n",
       "11701  Role-Playing                       Capcom      0.00      0.00   \n",
       "11702        Sports         Take-Two Interactive      0.11      0.01   \n",
       "\n",
       "       JP_Sales  Other_Sales  Critic_Score  Critic_Count  User_Score  \\\n",
       "11698      0.11         1.13          87.0          89.0         6.3   \n",
       "11699      0.05         0.22          83.0          91.0         7.8   \n",
       "11700      0.00         0.01          37.0          31.0         NaN   \n",
       "11701      0.03         0.00           NaN           NaN         NaN   \n",
       "11702      0.00         0.01          70.0          21.0         NaN   \n",
       "\n",
       "       User_Count        Developer Rating  \n",
       "11698      1454.0         Treyarch      M  \n",
       "11699       543.0  Insomniac Games      M  \n",
       "11700         NaN  10tacle Studios      T  \n",
       "11701         NaN              NaN    NaN  \n",
       "11702         NaN  Visual Concepts   E10+  "
      ]
     },
     "execution_count": 36,
     "metadata": {},
     "output_type": "execute_result"
    }
   ],
   "source": [
    "games.tail()"
   ]
  },
  {
   "cell_type": "markdown",
   "metadata": {},
   "source": [
    "* Usamos la funcion tail() para mostrar los primeros 5 registros solo para revisar si cargo correctamente\n",
    "* Como se ve con la fucion head() y tail() se muestran registros con alguno de los registros de videojuegos contando con nombres, ventas, puntuaciones, genero"
   ]
  },
  {
   "cell_type": "code",
   "execution_count": 37,
   "metadata": {},
   "outputs": [
    {
     "data": {
      "text/plain": [
       "Name                object\n",
       "Platform            object\n",
       "Year_of_Release    float64\n",
       "Genre               object\n",
       "Publisher           object\n",
       "NA_Sales           float64\n",
       "EU_Sales           float64\n",
       "JP_Sales           float64\n",
       "Other_Sales        float64\n",
       "Critic_Score       float64\n",
       "Critic_Count       float64\n",
       "User_Score         float64\n",
       "User_Count         float64\n",
       "Developer           object\n",
       "Rating              object\n",
       "dtype: object"
      ]
     },
     "execution_count": 37,
     "metadata": {},
     "output_type": "execute_result"
    }
   ],
   "source": [
    "games.dtypes"
   ]
  },
  {
   "cell_type": "markdown",
   "metadata": {},
   "source": [
    "###### b)\tEliminar columnas no deseadas."
   ]
  },
  {
   "cell_type": "code",
   "execution_count": 139,
   "metadata": {},
   "outputs": [
    {
     "data": {
      "text/plain": [
       "Name                True\n",
       "Platform           False\n",
       "Year_of_Release     True\n",
       "Genre               True\n",
       "Publisher           True\n",
       "NA_Sales           False\n",
       "EU_Sales           False\n",
       "JP_Sales           False\n",
       "Other_Sales        False\n",
       "Critic_Score        True\n",
       "Critic_Count        True\n",
       "User_Score          True\n",
       "User_Count          True\n",
       "Developer           True\n",
       "Rating              True\n",
       "dtype: bool"
      ]
     },
     "execution_count": 139,
     "metadata": {},
     "output_type": "execute_result"
    }
   ],
   "source": [
    "games.isnull().any()"
   ]
  },
  {
   "cell_type": "code",
   "execution_count": 6,
   "metadata": {},
   "outputs": [],
   "source": [
    "games2 = games.drop_duplicates(['Name','Platform',])"
   ]
  },
  {
   "cell_type": "code",
   "execution_count": 7,
   "metadata": {},
   "outputs": [],
   "source": [
    "nuevaBD = games2.drop(['User_Count', 'User_Score', 'Critic_Count','Developer','Rating','Other_Sales'], axis=1)"
   ]
  },
  {
   "cell_type": "code",
   "execution_count": 8,
   "metadata": {},
   "outputs": [
    {
     "data": {
      "text/html": [
       "<div>\n",
       "<style scoped>\n",
       "    .dataframe tbody tr th:only-of-type {\n",
       "        vertical-align: middle;\n",
       "    }\n",
       "\n",
       "    .dataframe tbody tr th {\n",
       "        vertical-align: top;\n",
       "    }\n",
       "\n",
       "    .dataframe thead th {\n",
       "        text-align: right;\n",
       "    }\n",
       "</style>\n",
       "<table border=\"1\" class=\"dataframe\">\n",
       "  <thead>\n",
       "    <tr style=\"text-align: right;\">\n",
       "      <th></th>\n",
       "      <th>Name</th>\n",
       "      <th>Platform</th>\n",
       "      <th>Year_of_Release</th>\n",
       "      <th>Genre</th>\n",
       "      <th>Publisher</th>\n",
       "      <th>NA_Sales</th>\n",
       "      <th>EU_Sales</th>\n",
       "      <th>JP_Sales</th>\n",
       "      <th>Critic_Score</th>\n",
       "    </tr>\n",
       "  </thead>\n",
       "  <tbody>\n",
       "    <tr>\n",
       "      <th>0</th>\n",
       "      <td>Rapala Trophies</td>\n",
       "      <td>PSP</td>\n",
       "      <td>2006.0</td>\n",
       "      <td>Sports</td>\n",
       "      <td>Activision</td>\n",
       "      <td>0.04</td>\n",
       "      <td>0.00</td>\n",
       "      <td>0.00</td>\n",
       "      <td>NaN</td>\n",
       "    </tr>\n",
       "    <tr>\n",
       "      <th>1</th>\n",
       "      <td>New Super Mario Bros. U</td>\n",
       "      <td>WiiU</td>\n",
       "      <td>2012.0</td>\n",
       "      <td>Platform</td>\n",
       "      <td>Nintendo</td>\n",
       "      <td>2.30</td>\n",
       "      <td>1.34</td>\n",
       "      <td>1.27</td>\n",
       "      <td>84.0</td>\n",
       "    </tr>\n",
       "    <tr>\n",
       "      <th>2</th>\n",
       "      <td>Robots</td>\n",
       "      <td>PS2</td>\n",
       "      <td>2005.0</td>\n",
       "      <td>Action</td>\n",
       "      <td>Vivendi Games</td>\n",
       "      <td>0.18</td>\n",
       "      <td>0.14</td>\n",
       "      <td>0.00</td>\n",
       "      <td>53.0</td>\n",
       "    </tr>\n",
       "    <tr>\n",
       "      <th>3</th>\n",
       "      <td>Hamster Club 3</td>\n",
       "      <td>GBA</td>\n",
       "      <td>2002.0</td>\n",
       "      <td>Simulation</td>\n",
       "      <td>Jorudan</td>\n",
       "      <td>0.00</td>\n",
       "      <td>0.00</td>\n",
       "      <td>0.35</td>\n",
       "      <td>NaN</td>\n",
       "    </tr>\n",
       "    <tr>\n",
       "      <th>4</th>\n",
       "      <td>Formula 1 06</td>\n",
       "      <td>PS2</td>\n",
       "      <td>2006.0</td>\n",
       "      <td>Racing</td>\n",
       "      <td>Sony Computer Entertainment</td>\n",
       "      <td>0.00</td>\n",
       "      <td>0.00</td>\n",
       "      <td>0.04</td>\n",
       "      <td>NaN</td>\n",
       "    </tr>\n",
       "    <tr>\n",
       "      <th>...</th>\n",
       "      <td>...</td>\n",
       "      <td>...</td>\n",
       "      <td>...</td>\n",
       "      <td>...</td>\n",
       "      <td>...</td>\n",
       "      <td>...</td>\n",
       "      <td>...</td>\n",
       "      <td>...</td>\n",
       "      <td>...</td>\n",
       "    </tr>\n",
       "    <tr>\n",
       "      <th>11698</th>\n",
       "      <td>Call of Duty: Black Ops</td>\n",
       "      <td>X360</td>\n",
       "      <td>2010.0</td>\n",
       "      <td>Shooter</td>\n",
       "      <td>Activision</td>\n",
       "      <td>9.70</td>\n",
       "      <td>3.68</td>\n",
       "      <td>0.11</td>\n",
       "      <td>87.0</td>\n",
       "    </tr>\n",
       "    <tr>\n",
       "      <th>11699</th>\n",
       "      <td>Resistance 3</td>\n",
       "      <td>PS3</td>\n",
       "      <td>2011.0</td>\n",
       "      <td>Shooter</td>\n",
       "      <td>Sony Computer Entertainment</td>\n",
       "      <td>0.64</td>\n",
       "      <td>0.57</td>\n",
       "      <td>0.05</td>\n",
       "      <td>83.0</td>\n",
       "    </tr>\n",
       "    <tr>\n",
       "      <th>11700</th>\n",
       "      <td>Ready 2 Rumble Revolution</td>\n",
       "      <td>Wii</td>\n",
       "      <td>2009.0</td>\n",
       "      <td>Sports</td>\n",
       "      <td>Atari</td>\n",
       "      <td>0.15</td>\n",
       "      <td>0.00</td>\n",
       "      <td>0.00</td>\n",
       "      <td>37.0</td>\n",
       "    </tr>\n",
       "    <tr>\n",
       "      <th>11701</th>\n",
       "      <td>Monster Hunter Frontier Online: Forward 2</td>\n",
       "      <td>X360</td>\n",
       "      <td>2011.0</td>\n",
       "      <td>Role-Playing</td>\n",
       "      <td>Capcom</td>\n",
       "      <td>0.00</td>\n",
       "      <td>0.00</td>\n",
       "      <td>0.03</td>\n",
       "      <td>NaN</td>\n",
       "    </tr>\n",
       "    <tr>\n",
       "      <th>11702</th>\n",
       "      <td>NHL 2K9</td>\n",
       "      <td>PS3</td>\n",
       "      <td>2008.0</td>\n",
       "      <td>Sports</td>\n",
       "      <td>Take-Two Interactive</td>\n",
       "      <td>0.11</td>\n",
       "      <td>0.01</td>\n",
       "      <td>0.00</td>\n",
       "      <td>70.0</td>\n",
       "    </tr>\n",
       "  </tbody>\n",
       "</table>\n",
       "<p>11699 rows × 9 columns</p>\n",
       "</div>"
      ],
      "text/plain": [
       "                                            Name Platform  Year_of_Release  \\\n",
       "0                                Rapala Trophies      PSP           2006.0   \n",
       "1                        New Super Mario Bros. U     WiiU           2012.0   \n",
       "2                                         Robots      PS2           2005.0   \n",
       "3                                 Hamster Club 3      GBA           2002.0   \n",
       "4                                   Formula 1 06      PS2           2006.0   \n",
       "...                                          ...      ...              ...   \n",
       "11698                    Call of Duty: Black Ops     X360           2010.0   \n",
       "11699                               Resistance 3      PS3           2011.0   \n",
       "11700                  Ready 2 Rumble Revolution      Wii           2009.0   \n",
       "11701  Monster Hunter Frontier Online: Forward 2     X360           2011.0   \n",
       "11702                                    NHL 2K9      PS3           2008.0   \n",
       "\n",
       "              Genre                    Publisher  NA_Sales  EU_Sales  \\\n",
       "0            Sports                   Activision      0.04      0.00   \n",
       "1          Platform                     Nintendo      2.30      1.34   \n",
       "2            Action                Vivendi Games      0.18      0.14   \n",
       "3        Simulation                      Jorudan      0.00      0.00   \n",
       "4            Racing  Sony Computer Entertainment      0.00      0.00   \n",
       "...             ...                          ...       ...       ...   \n",
       "11698       Shooter                   Activision      9.70      3.68   \n",
       "11699       Shooter  Sony Computer Entertainment      0.64      0.57   \n",
       "11700        Sports                        Atari      0.15      0.00   \n",
       "11701  Role-Playing                       Capcom      0.00      0.00   \n",
       "11702        Sports         Take-Two Interactive      0.11      0.01   \n",
       "\n",
       "       JP_Sales  Critic_Score  \n",
       "0          0.00           NaN  \n",
       "1          1.27          84.0  \n",
       "2          0.00          53.0  \n",
       "3          0.35           NaN  \n",
       "4          0.04           NaN  \n",
       "...         ...           ...  \n",
       "11698      0.11          87.0  \n",
       "11699      0.05          83.0  \n",
       "11700      0.00          37.0  \n",
       "11701      0.03           NaN  \n",
       "11702      0.00          70.0  \n",
       "\n",
       "[11699 rows x 9 columns]"
      ]
     },
     "execution_count": 8,
     "metadata": {},
     "output_type": "execute_result"
    }
   ],
   "source": [
    "nuevaBD"
   ]
  },
  {
   "cell_type": "markdown",
   "metadata": {},
   "source": [
    "* Eliminamos algunas columnas que no nos ayudan tanto ya que muchos datos eran vacíos o NaN y no nos servirá hacer análisis de datos vacíos. Esto nos complicaría más hacer análisis y agregar valores para los datos de columnas faltantes lo que es mejor eliminarlas para evitar problemas y no utilizar valores falsos o inventados y puedan afectar estadísticas.\n",
    "\n",
    "* Anteriormente se tenía contemplado la columna RATING, pero como el número de datos NaN era demasiado 4760,se tenía contemplado usar la clasificación RP que ERSB (Entertainment Software Rating Board) se califica como calificación Pendiente, lo cual para 4760 juegos con calificación pendiente sería un dato que no serviría ya que solo se usa para evaluación corta o después de lanzar versión oficial o versión final, el cual los juegos demuestran ventas es decir que ya son versiones finales u oficiales. Lo cual fue el motivo de eliminación.\n"
   ]
  },
  {
   "cell_type": "markdown",
   "metadata": {},
   "source": [
    "###### c)\tCorrecta manipulación de los datos nulos dentro de la base de datos."
   ]
  },
  {
   "cell_type": "code",
   "execution_count": 140,
   "metadata": {},
   "outputs": [
    {
     "data": {
      "text/plain": [
       "Name               0\n",
       "Platform           0\n",
       "Year_of_Release    0\n",
       "Genre              0\n",
       "Publisher          0\n",
       "NA_Sales           0\n",
       "EU_Sales           0\n",
       "JP_Sales           0\n",
       "Critic_Score       1\n",
       "dtype: int64"
      ]
     },
     "execution_count": 140,
     "metadata": {},
     "output_type": "execute_result"
    }
   ],
   "source": [
    "nuevaBD.isnull().sum()"
   ]
  },
  {
   "cell_type": "code",
   "execution_count": 59,
   "metadata": {},
   "outputs": [],
   "source": [
    "nuevaBD = nuevaBD.fillna(70)"
   ]
  },
  {
   "cell_type": "markdown",
   "metadata": {},
   "source": [
    "Un solo dato presenta NaN en Critic_Score lo cual le asignamos uno ya que solo es un dato, y podemos tener nuestra base de datos limpia de datos vacios y de errores."
   ]
  },
  {
   "cell_type": "code",
   "execution_count": 60,
   "metadata": {},
   "outputs": [
    {
     "data": {
      "text/html": [
       "<div>\n",
       "<style scoped>\n",
       "    .dataframe tbody tr th:only-of-type {\n",
       "        vertical-align: middle;\n",
       "    }\n",
       "\n",
       "    .dataframe tbody tr th {\n",
       "        vertical-align: top;\n",
       "    }\n",
       "\n",
       "    .dataframe thead th {\n",
       "        text-align: right;\n",
       "    }\n",
       "</style>\n",
       "<table border=\"1\" class=\"dataframe\">\n",
       "  <thead>\n",
       "    <tr style=\"text-align: right;\">\n",
       "      <th></th>\n",
       "      <th>Name</th>\n",
       "      <th>Platform</th>\n",
       "      <th>Year_of_Release</th>\n",
       "      <th>Genre</th>\n",
       "      <th>Publisher</th>\n",
       "      <th>NA_Sales</th>\n",
       "      <th>EU_Sales</th>\n",
       "      <th>JP_Sales</th>\n",
       "      <th>Critic_Score</th>\n",
       "    </tr>\n",
       "  </thead>\n",
       "  <tbody>\n",
       "    <tr>\n",
       "      <th>0</th>\n",
       "      <td>Rapala Trophies</td>\n",
       "      <td>PSP</td>\n",
       "      <td>2006.0</td>\n",
       "      <td>Sports</td>\n",
       "      <td>Activision</td>\n",
       "      <td>0.04</td>\n",
       "      <td>0.00</td>\n",
       "      <td>0.00</td>\n",
       "      <td>84.0</td>\n",
       "    </tr>\n",
       "    <tr>\n",
       "      <th>1</th>\n",
       "      <td>New Super Mario Bros. U</td>\n",
       "      <td>WiiU</td>\n",
       "      <td>2012.0</td>\n",
       "      <td>Platform</td>\n",
       "      <td>Nintendo</td>\n",
       "      <td>2.30</td>\n",
       "      <td>1.34</td>\n",
       "      <td>1.27</td>\n",
       "      <td>84.0</td>\n",
       "    </tr>\n",
       "    <tr>\n",
       "      <th>2</th>\n",
       "      <td>Robots</td>\n",
       "      <td>PS2</td>\n",
       "      <td>2005.0</td>\n",
       "      <td>Action</td>\n",
       "      <td>Vivendi Games</td>\n",
       "      <td>0.18</td>\n",
       "      <td>0.14</td>\n",
       "      <td>0.00</td>\n",
       "      <td>53.0</td>\n",
       "    </tr>\n",
       "    <tr>\n",
       "      <th>3</th>\n",
       "      <td>Hamster Club 3</td>\n",
       "      <td>GBA</td>\n",
       "      <td>2002.0</td>\n",
       "      <td>Simulation</td>\n",
       "      <td>Jorudan</td>\n",
       "      <td>0.00</td>\n",
       "      <td>0.00</td>\n",
       "      <td>0.35</td>\n",
       "      <td>69.0</td>\n",
       "    </tr>\n",
       "    <tr>\n",
       "      <th>4</th>\n",
       "      <td>Formula 1 06</td>\n",
       "      <td>PS2</td>\n",
       "      <td>2006.0</td>\n",
       "      <td>Racing</td>\n",
       "      <td>Sony Computer Entertainment</td>\n",
       "      <td>0.00</td>\n",
       "      <td>0.00</td>\n",
       "      <td>0.04</td>\n",
       "      <td>69.0</td>\n",
       "    </tr>\n",
       "    <tr>\n",
       "      <th>...</th>\n",
       "      <td>...</td>\n",
       "      <td>...</td>\n",
       "      <td>...</td>\n",
       "      <td>...</td>\n",
       "      <td>...</td>\n",
       "      <td>...</td>\n",
       "      <td>...</td>\n",
       "      <td>...</td>\n",
       "      <td>...</td>\n",
       "    </tr>\n",
       "    <tr>\n",
       "      <th>11698</th>\n",
       "      <td>Call of Duty: Black Ops</td>\n",
       "      <td>X360</td>\n",
       "      <td>2010.0</td>\n",
       "      <td>Shooter</td>\n",
       "      <td>Activision</td>\n",
       "      <td>9.70</td>\n",
       "      <td>3.68</td>\n",
       "      <td>0.11</td>\n",
       "      <td>87.0</td>\n",
       "    </tr>\n",
       "    <tr>\n",
       "      <th>11699</th>\n",
       "      <td>Resistance 3</td>\n",
       "      <td>PS3</td>\n",
       "      <td>2011.0</td>\n",
       "      <td>Shooter</td>\n",
       "      <td>Sony Computer Entertainment</td>\n",
       "      <td>0.64</td>\n",
       "      <td>0.57</td>\n",
       "      <td>0.05</td>\n",
       "      <td>83.0</td>\n",
       "    </tr>\n",
       "    <tr>\n",
       "      <th>11700</th>\n",
       "      <td>Ready 2 Rumble Revolution</td>\n",
       "      <td>Wii</td>\n",
       "      <td>2009.0</td>\n",
       "      <td>Sports</td>\n",
       "      <td>Atari</td>\n",
       "      <td>0.15</td>\n",
       "      <td>0.00</td>\n",
       "      <td>0.00</td>\n",
       "      <td>37.0</td>\n",
       "    </tr>\n",
       "    <tr>\n",
       "      <th>11701</th>\n",
       "      <td>Monster Hunter Frontier Online: Forward 2</td>\n",
       "      <td>X360</td>\n",
       "      <td>2011.0</td>\n",
       "      <td>Role-Playing</td>\n",
       "      <td>Capcom</td>\n",
       "      <td>0.00</td>\n",
       "      <td>0.00</td>\n",
       "      <td>0.03</td>\n",
       "      <td>70.0</td>\n",
       "    </tr>\n",
       "    <tr>\n",
       "      <th>11702</th>\n",
       "      <td>NHL 2K9</td>\n",
       "      <td>PS3</td>\n",
       "      <td>2008.0</td>\n",
       "      <td>Sports</td>\n",
       "      <td>Take-Two Interactive</td>\n",
       "      <td>0.11</td>\n",
       "      <td>0.01</td>\n",
       "      <td>0.00</td>\n",
       "      <td>70.0</td>\n",
       "    </tr>\n",
       "  </tbody>\n",
       "</table>\n",
       "<p>11699 rows × 9 columns</p>\n",
       "</div>"
      ],
      "text/plain": [
       "                                            Name Platform  Year_of_Release  \\\n",
       "0                                Rapala Trophies      PSP           2006.0   \n",
       "1                        New Super Mario Bros. U     WiiU           2012.0   \n",
       "2                                         Robots      PS2           2005.0   \n",
       "3                                 Hamster Club 3      GBA           2002.0   \n",
       "4                                   Formula 1 06      PS2           2006.0   \n",
       "...                                          ...      ...              ...   \n",
       "11698                    Call of Duty: Black Ops     X360           2010.0   \n",
       "11699                               Resistance 3      PS3           2011.0   \n",
       "11700                  Ready 2 Rumble Revolution      Wii           2009.0   \n",
       "11701  Monster Hunter Frontier Online: Forward 2     X360           2011.0   \n",
       "11702                                    NHL 2K9      PS3           2008.0   \n",
       "\n",
       "              Genre                    Publisher  NA_Sales  EU_Sales  \\\n",
       "0            Sports                   Activision      0.04      0.00   \n",
       "1          Platform                     Nintendo      2.30      1.34   \n",
       "2            Action                Vivendi Games      0.18      0.14   \n",
       "3        Simulation                      Jorudan      0.00      0.00   \n",
       "4            Racing  Sony Computer Entertainment      0.00      0.00   \n",
       "...             ...                          ...       ...       ...   \n",
       "11698       Shooter                   Activision      9.70      3.68   \n",
       "11699       Shooter  Sony Computer Entertainment      0.64      0.57   \n",
       "11700        Sports                        Atari      0.15      0.00   \n",
       "11701  Role-Playing                       Capcom      0.00      0.00   \n",
       "11702        Sports         Take-Two Interactive      0.11      0.01   \n",
       "\n",
       "       JP_Sales  Critic_Score  \n",
       "0          0.00          84.0  \n",
       "1          1.27          84.0  \n",
       "2          0.00          53.0  \n",
       "3          0.35          69.0  \n",
       "4          0.04          69.0  \n",
       "...         ...           ...  \n",
       "11698      0.11          87.0  \n",
       "11699      0.05          83.0  \n",
       "11700      0.00          37.0  \n",
       "11701      0.03          70.0  \n",
       "11702      0.00          70.0  \n",
       "\n",
       "[11699 rows x 9 columns]"
      ]
     },
     "execution_count": 60,
     "metadata": {},
     "output_type": "execute_result"
    }
   ],
   "source": [
    "nuevaBD"
   ]
  },
  {
   "cell_type": "code",
   "execution_count": 47,
   "metadata": {},
   "outputs": [],
   "source": [
    "nuevaBD.to_csv('Videojuegos.csv', index=False)"
   ]
  },
  {
   "cell_type": "markdown",
   "metadata": {},
   "source": [
    "Ya tenemos nuestra base de datos nueva y guardada ya con datos que pueden ser utilizados para trabajar con ellos."
   ]
  },
  {
   "cell_type": "code",
   "execution_count": 2,
   "metadata": {},
   "outputs": [],
   "source": [
    "games2 = pd.read_csv(\"Videojuegos.csv\")"
   ]
  },
  {
   "cell_type": "code",
   "execution_count": 3,
   "metadata": {},
   "outputs": [
    {
     "data": {
      "text/html": [
       "<div>\n",
       "<style scoped>\n",
       "    .dataframe tbody tr th:only-of-type {\n",
       "        vertical-align: middle;\n",
       "    }\n",
       "\n",
       "    .dataframe tbody tr th {\n",
       "        vertical-align: top;\n",
       "    }\n",
       "\n",
       "    .dataframe thead th {\n",
       "        text-align: right;\n",
       "    }\n",
       "</style>\n",
       "<table border=\"1\" class=\"dataframe\">\n",
       "  <thead>\n",
       "    <tr style=\"text-align: right;\">\n",
       "      <th></th>\n",
       "      <th>Name</th>\n",
       "      <th>Platform</th>\n",
       "      <th>Year_of_Release</th>\n",
       "      <th>Genre</th>\n",
       "      <th>Publisher</th>\n",
       "      <th>NA_Sales</th>\n",
       "      <th>EU_Sales</th>\n",
       "      <th>JP_Sales</th>\n",
       "      <th>Critic_Score</th>\n",
       "    </tr>\n",
       "  </thead>\n",
       "  <tbody>\n",
       "    <tr>\n",
       "      <th>0</th>\n",
       "      <td>Rapala Trophies</td>\n",
       "      <td>PSP</td>\n",
       "      <td>2006.0</td>\n",
       "      <td>Sports</td>\n",
       "      <td>Activision</td>\n",
       "      <td>40000</td>\n",
       "      <td>0</td>\n",
       "      <td>0</td>\n",
       "      <td>47</td>\n",
       "    </tr>\n",
       "    <tr>\n",
       "      <th>1</th>\n",
       "      <td>New Super Mario Bros. U</td>\n",
       "      <td>WiiU</td>\n",
       "      <td>2012.0</td>\n",
       "      <td>Platform</td>\n",
       "      <td>Nintendo</td>\n",
       "      <td>2300000</td>\n",
       "      <td>1340000</td>\n",
       "      <td>1270000</td>\n",
       "      <td>82</td>\n",
       "    </tr>\n",
       "    <tr>\n",
       "      <th>2</th>\n",
       "      <td>Robots</td>\n",
       "      <td>PS2</td>\n",
       "      <td>2005.0</td>\n",
       "      <td>Action</td>\n",
       "      <td>Vivendi Games</td>\n",
       "      <td>180000</td>\n",
       "      <td>140000</td>\n",
       "      <td>0</td>\n",
       "      <td>93</td>\n",
       "    </tr>\n",
       "    <tr>\n",
       "      <th>3</th>\n",
       "      <td>Hamster Club 3</td>\n",
       "      <td>GBA</td>\n",
       "      <td>2002.0</td>\n",
       "      <td>Simulation</td>\n",
       "      <td>Jorudan</td>\n",
       "      <td>0</td>\n",
       "      <td>0</td>\n",
       "      <td>350000</td>\n",
       "      <td>66</td>\n",
       "    </tr>\n",
       "    <tr>\n",
       "      <th>4</th>\n",
       "      <td>Formula 1 06</td>\n",
       "      <td>PS2</td>\n",
       "      <td>2006.0</td>\n",
       "      <td>Racing</td>\n",
       "      <td>Sony Computer Entertainment</td>\n",
       "      <td>0</td>\n",
       "      <td>0</td>\n",
       "      <td>40000</td>\n",
       "      <td>71</td>\n",
       "    </tr>\n",
       "    <tr>\n",
       "      <th>...</th>\n",
       "      <td>...</td>\n",
       "      <td>...</td>\n",
       "      <td>...</td>\n",
       "      <td>...</td>\n",
       "      <td>...</td>\n",
       "      <td>...</td>\n",
       "      <td>...</td>\n",
       "      <td>...</td>\n",
       "      <td>...</td>\n",
       "    </tr>\n",
       "    <tr>\n",
       "      <th>11694</th>\n",
       "      <td>Call of Duty: Black Ops</td>\n",
       "      <td>X360</td>\n",
       "      <td>2010.0</td>\n",
       "      <td>Shooter</td>\n",
       "      <td>Activision</td>\n",
       "      <td>9700000</td>\n",
       "      <td>3680000</td>\n",
       "      <td>110000</td>\n",
       "      <td>95</td>\n",
       "    </tr>\n",
       "    <tr>\n",
       "      <th>11695</th>\n",
       "      <td>Resistance 3</td>\n",
       "      <td>PS3</td>\n",
       "      <td>2011.0</td>\n",
       "      <td>Shooter</td>\n",
       "      <td>Sony Computer Entertainment</td>\n",
       "      <td>640000</td>\n",
       "      <td>570000</td>\n",
       "      <td>50000</td>\n",
       "      <td>49</td>\n",
       "    </tr>\n",
       "    <tr>\n",
       "      <th>11696</th>\n",
       "      <td>Ready 2 Rumble Revolution</td>\n",
       "      <td>Wii</td>\n",
       "      <td>2009.0</td>\n",
       "      <td>Sports</td>\n",
       "      <td>Atari</td>\n",
       "      <td>150000</td>\n",
       "      <td>0</td>\n",
       "      <td>0</td>\n",
       "      <td>95</td>\n",
       "    </tr>\n",
       "    <tr>\n",
       "      <th>11697</th>\n",
       "      <td>Monster Hunter Frontier Online: Forward 2</td>\n",
       "      <td>X360</td>\n",
       "      <td>2011.0</td>\n",
       "      <td>Role-Playing</td>\n",
       "      <td>Capcom</td>\n",
       "      <td>0</td>\n",
       "      <td>0</td>\n",
       "      <td>30000</td>\n",
       "      <td>75</td>\n",
       "    </tr>\n",
       "    <tr>\n",
       "      <th>11698</th>\n",
       "      <td>NHL 2K9</td>\n",
       "      <td>PS3</td>\n",
       "      <td>2008.0</td>\n",
       "      <td>Sports</td>\n",
       "      <td>Take-Two Interactive</td>\n",
       "      <td>110000</td>\n",
       "      <td>10000</td>\n",
       "      <td>0</td>\n",
       "      <td>51</td>\n",
       "    </tr>\n",
       "  </tbody>\n",
       "</table>\n",
       "<p>11699 rows × 9 columns</p>\n",
       "</div>"
      ],
      "text/plain": [
       "                                            Name Platform  Year_of_Release  \\\n",
       "0                                Rapala Trophies      PSP           2006.0   \n",
       "1                        New Super Mario Bros. U     WiiU           2012.0   \n",
       "2                                         Robots      PS2           2005.0   \n",
       "3                                 Hamster Club 3      GBA           2002.0   \n",
       "4                                   Formula 1 06      PS2           2006.0   \n",
       "...                                          ...      ...              ...   \n",
       "11694                    Call of Duty: Black Ops     X360           2010.0   \n",
       "11695                               Resistance 3      PS3           2011.0   \n",
       "11696                  Ready 2 Rumble Revolution      Wii           2009.0   \n",
       "11697  Monster Hunter Frontier Online: Forward 2     X360           2011.0   \n",
       "11698                                    NHL 2K9      PS3           2008.0   \n",
       "\n",
       "              Genre                    Publisher  NA_Sales  EU_Sales  \\\n",
       "0            Sports                   Activision     40000         0   \n",
       "1          Platform                     Nintendo   2300000   1340000   \n",
       "2            Action                Vivendi Games    180000    140000   \n",
       "3        Simulation                      Jorudan         0         0   \n",
       "4            Racing  Sony Computer Entertainment         0         0   \n",
       "...             ...                          ...       ...       ...   \n",
       "11694       Shooter                   Activision   9700000   3680000   \n",
       "11695       Shooter  Sony Computer Entertainment    640000    570000   \n",
       "11696        Sports                        Atari    150000         0   \n",
       "11697  Role-Playing                       Capcom         0         0   \n",
       "11698        Sports         Take-Two Interactive    110000     10000   \n",
       "\n",
       "       JP_Sales  Critic_Score  \n",
       "0             0            47  \n",
       "1       1270000            82  \n",
       "2             0            93  \n",
       "3        350000            66  \n",
       "4         40000            71  \n",
       "...         ...           ...  \n",
       "11694    110000            95  \n",
       "11695     50000            49  \n",
       "11696         0            95  \n",
       "11697     30000            75  \n",
       "11698         0            51  \n",
       "\n",
       "[11699 rows x 9 columns]"
      ]
     },
     "execution_count": 3,
     "metadata": {},
     "output_type": "execute_result"
    }
   ],
   "source": [
    "games2"
   ]
  },
  {
   "cell_type": "markdown",
   "metadata": {},
   "source": [
    "Mostramos la nueva Base de Datos con columnas y datos que no servirian, asi que se puede crear una mejor visualizacion de datos sin tener errores ni nombres repetidos de videjuegos"
   ]
  },
  {
   "cell_type": "code",
   "execution_count": 4,
   "metadata": {},
   "outputs": [],
   "source": [
    "Capcom = games2[games2['Publisher']=='Capcom']"
   ]
  },
  {
   "cell_type": "code",
   "execution_count": 5,
   "metadata": {},
   "outputs": [],
   "source": [
    "Konami = games2[games2['Publisher']=='Konami Digital Entertainment']"
   ]
  },
  {
   "cell_type": "code",
   "execution_count": 6,
   "metadata": {},
   "outputs": [],
   "source": [
    "Capcom_acccion = games2[games2['Genre']=='Action']"
   ]
  },
  {
   "cell_type": "code",
   "execution_count": 7,
   "metadata": {},
   "outputs": [],
   "source": [
    "Sony = games2[games2['Publisher']=='Sony Computer Entertainment']"
   ]
  },
  {
   "cell_type": "code",
   "execution_count": 8,
   "metadata": {},
   "outputs": [],
   "source": [
    "SNK = games2[games2['Publisher']=='SNK']"
   ]
  },
  {
   "cell_type": "code",
   "execution_count": 9,
   "metadata": {},
   "outputs": [],
   "source": [
    "Rockstar = games2[games2['Publisher']=='Take-Two Interactive']"
   ]
  },
  {
   "cell_type": "code",
   "execution_count": 10,
   "metadata": {},
   "outputs": [],
   "source": [
    "EA  = games2[games2['Publisher']=='Electronic Arts']"
   ]
  },
  {
   "cell_type": "code",
   "execution_count": 11,
   "metadata": {},
   "outputs": [],
   "source": [
    " Nintendo= games2[games2['Publisher']=='Nintendo']"
   ]
  },
  {
   "cell_type": "code",
   "execution_count": 12,
   "metadata": {},
   "outputs": [],
   "source": [
    "Deportes  = games2[games2['Genre']=='Sports']"
   ]
  },
  {
   "cell_type": "code",
   "execution_count": 13,
   "metadata": {},
   "outputs": [],
   "source": [
    "Accion = games2[games2['Genre']=='Action']"
   ]
  },
  {
   "cell_type": "code",
   "execution_count": 14,
   "metadata": {},
   "outputs": [],
   "source": [
    "Carreras = games2[games2['Genre']=='Racing']"
   ]
  },
  {
   "cell_type": "code",
   "execution_count": 15,
   "metadata": {},
   "outputs": [],
   "source": [
    "Rol =games2[games2['Genre']=='Rol-Playing']"
   ]
  },
  {
   "cell_type": "code",
   "execution_count": 16,
   "metadata": {},
   "outputs": [],
   "source": [
    "Disparos = games2[games2['Genre']=='Shooter']"
   ]
  },
  {
   "cell_type": "code",
   "execution_count": 17,
   "metadata": {},
   "outputs": [],
   "source": [
    "Peleas = games2[games2['Genre']=='Fighting']"
   ]
  },
  {
   "cell_type": "markdown",
   "metadata": {},
   "source": [
    "Creamos algunas clases en las cuales se pueden dividir nuestros generos y empresas para despues estudiarlos y analizarlos graficamente."
   ]
  },
  {
   "cell_type": "code",
   "execution_count": 16,
   "metadata": {},
   "outputs": [
    {
     "data": {
      "text/html": [
       "<div>\n",
       "<style scoped>\n",
       "    .dataframe tbody tr th:only-of-type {\n",
       "        vertical-align: middle;\n",
       "    }\n",
       "\n",
       "    .dataframe tbody tr th {\n",
       "        vertical-align: top;\n",
       "    }\n",
       "\n",
       "    .dataframe thead th {\n",
       "        text-align: right;\n",
       "    }\n",
       "</style>\n",
       "<table border=\"1\" class=\"dataframe\">\n",
       "  <thead>\n",
       "    <tr style=\"text-align: right;\">\n",
       "      <th></th>\n",
       "      <th>Name</th>\n",
       "      <th>Platform</th>\n",
       "      <th>Year_of_Release</th>\n",
       "      <th>Genre</th>\n",
       "      <th>Publisher</th>\n",
       "      <th>NA_Sales</th>\n",
       "      <th>EU_Sales</th>\n",
       "      <th>JP_Sales</th>\n",
       "      <th>Critic_Score</th>\n",
       "    </tr>\n",
       "  </thead>\n",
       "  <tbody>\n",
       "    <tr>\n",
       "      <th>54</th>\n",
       "      <td>DuckTales: Remastered</td>\n",
       "      <td>PC</td>\n",
       "      <td>2013.0</td>\n",
       "      <td>Action</td>\n",
       "      <td>Capcom</td>\n",
       "      <td>0</td>\n",
       "      <td>10000</td>\n",
       "      <td>0</td>\n",
       "      <td>67</td>\n",
       "    </tr>\n",
       "    <tr>\n",
       "      <th>57</th>\n",
       "      <td>Resident Evil Director's Cut</td>\n",
       "      <td>PS3</td>\n",
       "      <td>2006.0</td>\n",
       "      <td>Action</td>\n",
       "      <td>Capcom</td>\n",
       "      <td>0</td>\n",
       "      <td>0</td>\n",
       "      <td>50000</td>\n",
       "      <td>83</td>\n",
       "    </tr>\n",
       "    <tr>\n",
       "      <th>168</th>\n",
       "      <td>Dead Rising 2: Off the Record</td>\n",
       "      <td>PC</td>\n",
       "      <td>2011.0</td>\n",
       "      <td>Action</td>\n",
       "      <td>Capcom</td>\n",
       "      <td>40000</td>\n",
       "      <td>20000</td>\n",
       "      <td>0</td>\n",
       "      <td>64</td>\n",
       "    </tr>\n",
       "    <tr>\n",
       "      <th>192</th>\n",
       "      <td>Bombastic</td>\n",
       "      <td>PS2</td>\n",
       "      <td>2002.0</td>\n",
       "      <td>Puzzle</td>\n",
       "      <td>Capcom</td>\n",
       "      <td>30000</td>\n",
       "      <td>20000</td>\n",
       "      <td>0</td>\n",
       "      <td>51</td>\n",
       "    </tr>\n",
       "    <tr>\n",
       "      <th>274</th>\n",
       "      <td>Mega Man Battle Network</td>\n",
       "      <td>GBA</td>\n",
       "      <td>2001.0</td>\n",
       "      <td>Role-Playing</td>\n",
       "      <td>Capcom</td>\n",
       "      <td>140000</td>\n",
       "      <td>50000</td>\n",
       "      <td>220000</td>\n",
       "      <td>82</td>\n",
       "    </tr>\n",
       "    <tr>\n",
       "      <th>...</th>\n",
       "      <td>...</td>\n",
       "      <td>...</td>\n",
       "      <td>...</td>\n",
       "      <td>...</td>\n",
       "      <td>...</td>\n",
       "      <td>...</td>\n",
       "      <td>...</td>\n",
       "      <td>...</td>\n",
       "      <td>...</td>\n",
       "    </tr>\n",
       "    <tr>\n",
       "      <th>11578</th>\n",
       "      <td>Mega Man Xtreme 2</td>\n",
       "      <td>GB</td>\n",
       "      <td>2001.0</td>\n",
       "      <td>Platform</td>\n",
       "      <td>Capcom</td>\n",
       "      <td>0</td>\n",
       "      <td>0</td>\n",
       "      <td>70000</td>\n",
       "      <td>63</td>\n",
       "    </tr>\n",
       "    <tr>\n",
       "      <th>11592</th>\n",
       "      <td>Resident Evil 4 HD</td>\n",
       "      <td>XOne</td>\n",
       "      <td>2016.0</td>\n",
       "      <td>Shooter</td>\n",
       "      <td>Capcom</td>\n",
       "      <td>20000</td>\n",
       "      <td>0</td>\n",
       "      <td>0</td>\n",
       "      <td>74</td>\n",
       "    </tr>\n",
       "    <tr>\n",
       "      <th>11598</th>\n",
       "      <td>Sengoku Basara: Chronicle Heroes</td>\n",
       "      <td>PSP</td>\n",
       "      <td>2011.0</td>\n",
       "      <td>Action</td>\n",
       "      <td>Capcom</td>\n",
       "      <td>0</td>\n",
       "      <td>0</td>\n",
       "      <td>160000</td>\n",
       "      <td>71</td>\n",
       "    </tr>\n",
       "    <tr>\n",
       "      <th>11639</th>\n",
       "      <td>Phoenix Wright: Ace Attorney - Justice for All</td>\n",
       "      <td>DS</td>\n",
       "      <td>2006.0</td>\n",
       "      <td>Adventure</td>\n",
       "      <td>Capcom</td>\n",
       "      <td>210000</td>\n",
       "      <td>40000</td>\n",
       "      <td>260000</td>\n",
       "      <td>59</td>\n",
       "    </tr>\n",
       "    <tr>\n",
       "      <th>11697</th>\n",
       "      <td>Monster Hunter Frontier Online: Forward 2</td>\n",
       "      <td>X360</td>\n",
       "      <td>2011.0</td>\n",
       "      <td>Role-Playing</td>\n",
       "      <td>Capcom</td>\n",
       "      <td>0</td>\n",
       "      <td>0</td>\n",
       "      <td>30000</td>\n",
       "      <td>75</td>\n",
       "    </tr>\n",
       "  </tbody>\n",
       "</table>\n",
       "<p>279 rows × 9 columns</p>\n",
       "</div>"
      ],
      "text/plain": [
       "                                                 Name Platform  \\\n",
       "54                              DuckTales: Remastered       PC   \n",
       "57                       Resident Evil Director's Cut      PS3   \n",
       "168                     Dead Rising 2: Off the Record       PC   \n",
       "192                                         Bombastic      PS2   \n",
       "274                           Mega Man Battle Network      GBA   \n",
       "...                                               ...      ...   \n",
       "11578                               Mega Man Xtreme 2       GB   \n",
       "11592                              Resident Evil 4 HD     XOne   \n",
       "11598                Sengoku Basara: Chronicle Heroes      PSP   \n",
       "11639  Phoenix Wright: Ace Attorney - Justice for All       DS   \n",
       "11697       Monster Hunter Frontier Online: Forward 2     X360   \n",
       "\n",
       "       Year_of_Release         Genre Publisher  NA_Sales  EU_Sales  JP_Sales  \\\n",
       "54              2013.0        Action    Capcom         0     10000         0   \n",
       "57              2006.0        Action    Capcom         0         0     50000   \n",
       "168             2011.0        Action    Capcom     40000     20000         0   \n",
       "192             2002.0        Puzzle    Capcom     30000     20000         0   \n",
       "274             2001.0  Role-Playing    Capcom    140000     50000    220000   \n",
       "...                ...           ...       ...       ...       ...       ...   \n",
       "11578           2001.0      Platform    Capcom         0         0     70000   \n",
       "11592           2016.0       Shooter    Capcom     20000         0         0   \n",
       "11598           2011.0        Action    Capcom         0         0    160000   \n",
       "11639           2006.0     Adventure    Capcom    210000     40000    260000   \n",
       "11697           2011.0  Role-Playing    Capcom         0         0     30000   \n",
       "\n",
       "       Critic_Score  \n",
       "54               67  \n",
       "57               83  \n",
       "168              64  \n",
       "192              51  \n",
       "274              82  \n",
       "...             ...  \n",
       "11578            63  \n",
       "11592            74  \n",
       "11598            71  \n",
       "11639            59  \n",
       "11697            75  \n",
       "\n",
       "[279 rows x 9 columns]"
      ]
     },
     "execution_count": 16,
     "metadata": {},
     "output_type": "execute_result"
    }
   ],
   "source": [
    "Capcom"
   ]
  },
  {
   "cell_type": "code",
   "execution_count": 17,
   "metadata": {},
   "outputs": [
    {
     "data": {
      "text/html": [
       "<div>\n",
       "<style scoped>\n",
       "    .dataframe tbody tr th:only-of-type {\n",
       "        vertical-align: middle;\n",
       "    }\n",
       "\n",
       "    .dataframe tbody tr th {\n",
       "        vertical-align: top;\n",
       "    }\n",
       "\n",
       "    .dataframe thead th {\n",
       "        text-align: right;\n",
       "    }\n",
       "</style>\n",
       "<table border=\"1\" class=\"dataframe\">\n",
       "  <thead>\n",
       "    <tr style=\"text-align: right;\">\n",
       "      <th></th>\n",
       "      <th>Name</th>\n",
       "      <th>Platform</th>\n",
       "      <th>Year_of_Release</th>\n",
       "      <th>Genre</th>\n",
       "      <th>Publisher</th>\n",
       "      <th>NA_Sales</th>\n",
       "      <th>EU_Sales</th>\n",
       "      <th>JP_Sales</th>\n",
       "      <th>Critic_Score</th>\n",
       "    </tr>\n",
       "  </thead>\n",
       "  <tbody>\n",
       "    <tr>\n",
       "      <th>7</th>\n",
       "      <td>S.T.A.L.K.E.R.: Shadow of Chernobyl</td>\n",
       "      <td>PC</td>\n",
       "      <td>2007.0</td>\n",
       "      <td>Shooter</td>\n",
       "      <td>THQ</td>\n",
       "      <td>10000</td>\n",
       "      <td>40000</td>\n",
       "      <td>0</td>\n",
       "      <td>54</td>\n",
       "    </tr>\n",
       "    <tr>\n",
       "      <th>15</th>\n",
       "      <td>Cold Winter</td>\n",
       "      <td>PS2</td>\n",
       "      <td>2005.0</td>\n",
       "      <td>Shooter</td>\n",
       "      <td>Vivendi Games</td>\n",
       "      <td>60000</td>\n",
       "      <td>40000</td>\n",
       "      <td>0</td>\n",
       "      <td>90</td>\n",
       "    </tr>\n",
       "    <tr>\n",
       "      <th>28</th>\n",
       "      <td>Call of Duty: Ghosts</td>\n",
       "      <td>XOne</td>\n",
       "      <td>2013.0</td>\n",
       "      <td>Shooter</td>\n",
       "      <td>Activision</td>\n",
       "      <td>1880000</td>\n",
       "      <td>770000</td>\n",
       "      <td>0</td>\n",
       "      <td>60</td>\n",
       "    </tr>\n",
       "    <tr>\n",
       "      <th>39</th>\n",
       "      <td>Max Payne</td>\n",
       "      <td>XB</td>\n",
       "      <td>2001.0</td>\n",
       "      <td>Shooter</td>\n",
       "      <td>Take-Two Interactive</td>\n",
       "      <td>980000</td>\n",
       "      <td>190000</td>\n",
       "      <td>0</td>\n",
       "      <td>52</td>\n",
       "    </tr>\n",
       "    <tr>\n",
       "      <th>48</th>\n",
       "      <td>SD Gundam Force: Showdown!</td>\n",
       "      <td>PS2</td>\n",
       "      <td>2004.0</td>\n",
       "      <td>Shooter</td>\n",
       "      <td>Namco Bandai Games</td>\n",
       "      <td>20000</td>\n",
       "      <td>10000</td>\n",
       "      <td>0</td>\n",
       "      <td>45</td>\n",
       "    </tr>\n",
       "    <tr>\n",
       "      <th>...</th>\n",
       "      <td>...</td>\n",
       "      <td>...</td>\n",
       "      <td>...</td>\n",
       "      <td>...</td>\n",
       "      <td>...</td>\n",
       "      <td>...</td>\n",
       "      <td>...</td>\n",
       "      <td>...</td>\n",
       "      <td>...</td>\n",
       "    </tr>\n",
       "    <tr>\n",
       "      <th>11684</th>\n",
       "      <td>Mercenaries 2: World in Flames</td>\n",
       "      <td>PS3</td>\n",
       "      <td>2008.0</td>\n",
       "      <td>Shooter</td>\n",
       "      <td>Electronic Arts</td>\n",
       "      <td>290000</td>\n",
       "      <td>390000</td>\n",
       "      <td>20000</td>\n",
       "      <td>97</td>\n",
       "    </tr>\n",
       "    <tr>\n",
       "      <th>11687</th>\n",
       "      <td>Chili Con Carnage</td>\n",
       "      <td>PSP</td>\n",
       "      <td>2007.0</td>\n",
       "      <td>Shooter</td>\n",
       "      <td>Eidos Interactive</td>\n",
       "      <td>0</td>\n",
       "      <td>10000</td>\n",
       "      <td>0</td>\n",
       "      <td>88</td>\n",
       "    </tr>\n",
       "    <tr>\n",
       "      <th>11689</th>\n",
       "      <td>Star Wars Jedi Knight II: Jedi Outcast</td>\n",
       "      <td>GC</td>\n",
       "      <td>2002.0</td>\n",
       "      <td>Shooter</td>\n",
       "      <td>Activision</td>\n",
       "      <td>180000</td>\n",
       "      <td>50000</td>\n",
       "      <td>0</td>\n",
       "      <td>47</td>\n",
       "    </tr>\n",
       "    <tr>\n",
       "      <th>11694</th>\n",
       "      <td>Call of Duty: Black Ops</td>\n",
       "      <td>X360</td>\n",
       "      <td>2010.0</td>\n",
       "      <td>Shooter</td>\n",
       "      <td>Activision</td>\n",
       "      <td>9700000</td>\n",
       "      <td>3680000</td>\n",
       "      <td>110000</td>\n",
       "      <td>95</td>\n",
       "    </tr>\n",
       "    <tr>\n",
       "      <th>11695</th>\n",
       "      <td>Resistance 3</td>\n",
       "      <td>PS3</td>\n",
       "      <td>2011.0</td>\n",
       "      <td>Shooter</td>\n",
       "      <td>Sony Computer Entertainment</td>\n",
       "      <td>640000</td>\n",
       "      <td>570000</td>\n",
       "      <td>50000</td>\n",
       "      <td>49</td>\n",
       "    </tr>\n",
       "  </tbody>\n",
       "</table>\n",
       "<p>919 rows × 9 columns</p>\n",
       "</div>"
      ],
      "text/plain": [
       "                                         Name Platform  Year_of_Release  \\\n",
       "7         S.T.A.L.K.E.R.: Shadow of Chernobyl       PC           2007.0   \n",
       "15                                Cold Winter      PS2           2005.0   \n",
       "28                       Call of Duty: Ghosts     XOne           2013.0   \n",
       "39                                  Max Payne       XB           2001.0   \n",
       "48                 SD Gundam Force: Showdown!      PS2           2004.0   \n",
       "...                                       ...      ...              ...   \n",
       "11684          Mercenaries 2: World in Flames      PS3           2008.0   \n",
       "11687                       Chili Con Carnage      PSP           2007.0   \n",
       "11689  Star Wars Jedi Knight II: Jedi Outcast       GC           2002.0   \n",
       "11694                 Call of Duty: Black Ops     X360           2010.0   \n",
       "11695                            Resistance 3      PS3           2011.0   \n",
       "\n",
       "         Genre                    Publisher  NA_Sales  EU_Sales  JP_Sales  \\\n",
       "7      Shooter                          THQ     10000     40000         0   \n",
       "15     Shooter                Vivendi Games     60000     40000         0   \n",
       "28     Shooter                   Activision   1880000    770000         0   \n",
       "39     Shooter         Take-Two Interactive    980000    190000         0   \n",
       "48     Shooter           Namco Bandai Games     20000     10000         0   \n",
       "...        ...                          ...       ...       ...       ...   \n",
       "11684  Shooter              Electronic Arts    290000    390000     20000   \n",
       "11687  Shooter            Eidos Interactive         0     10000         0   \n",
       "11689  Shooter                   Activision    180000     50000         0   \n",
       "11694  Shooter                   Activision   9700000   3680000    110000   \n",
       "11695  Shooter  Sony Computer Entertainment    640000    570000     50000   \n",
       "\n",
       "       Critic_Score  \n",
       "7                54  \n",
       "15               90  \n",
       "28               60  \n",
       "39               52  \n",
       "48               45  \n",
       "...             ...  \n",
       "11684            97  \n",
       "11687            88  \n",
       "11689            47  \n",
       "11694            95  \n",
       "11695            49  \n",
       "\n",
       "[919 rows x 9 columns]"
      ]
     },
     "execution_count": 17,
     "metadata": {},
     "output_type": "execute_result"
    }
   ],
   "source": [
    "Disparos"
   ]
  },
  {
   "cell_type": "code",
   "execution_count": 18,
   "metadata": {},
   "outputs": [
    {
     "data": {
      "text/html": [
       "<div>\n",
       "<style scoped>\n",
       "    .dataframe tbody tr th:only-of-type {\n",
       "        vertical-align: middle;\n",
       "    }\n",
       "\n",
       "    .dataframe tbody tr th {\n",
       "        vertical-align: top;\n",
       "    }\n",
       "\n",
       "    .dataframe thead th {\n",
       "        text-align: right;\n",
       "    }\n",
       "</style>\n",
       "<table border=\"1\" class=\"dataframe\">\n",
       "  <thead>\n",
       "    <tr style=\"text-align: right;\">\n",
       "      <th></th>\n",
       "      <th>Name</th>\n",
       "      <th>Platform</th>\n",
       "      <th>Year_of_Release</th>\n",
       "      <th>Genre</th>\n",
       "      <th>Publisher</th>\n",
       "      <th>NA_Sales</th>\n",
       "      <th>EU_Sales</th>\n",
       "      <th>JP_Sales</th>\n",
       "      <th>Critic_Score</th>\n",
       "    </tr>\n",
       "  </thead>\n",
       "  <tbody>\n",
       "    <tr>\n",
       "      <th>39</th>\n",
       "      <td>Max Payne</td>\n",
       "      <td>XB</td>\n",
       "      <td>2001.0</td>\n",
       "      <td>Shooter</td>\n",
       "      <td>Take-Two Interactive</td>\n",
       "      <td>980000</td>\n",
       "      <td>190000</td>\n",
       "      <td>0</td>\n",
       "      <td>52</td>\n",
       "    </tr>\n",
       "    <tr>\n",
       "      <th>58</th>\n",
       "      <td>Midnight Club II</td>\n",
       "      <td>XB</td>\n",
       "      <td>2003.0</td>\n",
       "      <td>Racing</td>\n",
       "      <td>Take-Two Interactive</td>\n",
       "      <td>420000</td>\n",
       "      <td>60000</td>\n",
       "      <td>0</td>\n",
       "      <td>50</td>\n",
       "    </tr>\n",
       "    <tr>\n",
       "      <th>73</th>\n",
       "      <td>Fantastic Four: Rise of the Silver Surfer</td>\n",
       "      <td>Wii</td>\n",
       "      <td>2007.0</td>\n",
       "      <td>Action</td>\n",
       "      <td>Take-Two Interactive</td>\n",
       "      <td>40000</td>\n",
       "      <td>10000</td>\n",
       "      <td>0</td>\n",
       "      <td>75</td>\n",
       "    </tr>\n",
       "    <tr>\n",
       "      <th>120</th>\n",
       "      <td>Ford Mustang: The Legend Lives</td>\n",
       "      <td>XB</td>\n",
       "      <td>2005.0</td>\n",
       "      <td>Racing</td>\n",
       "      <td>Take-Two Interactive</td>\n",
       "      <td>70000</td>\n",
       "      <td>20000</td>\n",
       "      <td>0</td>\n",
       "      <td>82</td>\n",
       "    </tr>\n",
       "    <tr>\n",
       "      <th>153</th>\n",
       "      <td>Ni Hao, Kai-lan: New Year's Celebration</td>\n",
       "      <td>DS</td>\n",
       "      <td>2009.0</td>\n",
       "      <td>Misc</td>\n",
       "      <td>Take-Two Interactive</td>\n",
       "      <td>190000</td>\n",
       "      <td>0</td>\n",
       "      <td>0</td>\n",
       "      <td>93</td>\n",
       "    </tr>\n",
       "    <tr>\n",
       "      <th>...</th>\n",
       "      <td>...</td>\n",
       "      <td>...</td>\n",
       "      <td>...</td>\n",
       "      <td>...</td>\n",
       "      <td>...</td>\n",
       "      <td>...</td>\n",
       "      <td>...</td>\n",
       "      <td>...</td>\n",
       "      <td>...</td>\n",
       "    </tr>\n",
       "    <tr>\n",
       "      <th>11645</th>\n",
       "      <td>Royal Palace of White Sword and The City of Ge...</td>\n",
       "      <td>PC</td>\n",
       "      <td>2009.0</td>\n",
       "      <td>Role-Playing</td>\n",
       "      <td>Take-Two Interactive</td>\n",
       "      <td>0</td>\n",
       "      <td>20000</td>\n",
       "      <td>0</td>\n",
       "      <td>54</td>\n",
       "    </tr>\n",
       "    <tr>\n",
       "      <th>11652</th>\n",
       "      <td>The Darkness II</td>\n",
       "      <td>PC</td>\n",
       "      <td>2012.0</td>\n",
       "      <td>Shooter</td>\n",
       "      <td>Take-Two Interactive</td>\n",
       "      <td>100000</td>\n",
       "      <td>30000</td>\n",
       "      <td>0</td>\n",
       "      <td>80</td>\n",
       "    </tr>\n",
       "    <tr>\n",
       "      <th>11654</th>\n",
       "      <td>Serious Sam II</td>\n",
       "      <td>PC</td>\n",
       "      <td>2005.0</td>\n",
       "      <td>Shooter</td>\n",
       "      <td>Take-Two Interactive</td>\n",
       "      <td>0</td>\n",
       "      <td>10000</td>\n",
       "      <td>0</td>\n",
       "      <td>52</td>\n",
       "    </tr>\n",
       "    <tr>\n",
       "      <th>11674</th>\n",
       "      <td>NBA 2K7</td>\n",
       "      <td>PS2</td>\n",
       "      <td>2006.0</td>\n",
       "      <td>Sports</td>\n",
       "      <td>Take-Two Interactive</td>\n",
       "      <td>650000</td>\n",
       "      <td>20000</td>\n",
       "      <td>0</td>\n",
       "      <td>44</td>\n",
       "    </tr>\n",
       "    <tr>\n",
       "      <th>11698</th>\n",
       "      <td>NHL 2K9</td>\n",
       "      <td>PS3</td>\n",
       "      <td>2008.0</td>\n",
       "      <td>Sports</td>\n",
       "      <td>Take-Two Interactive</td>\n",
       "      <td>110000</td>\n",
       "      <td>10000</td>\n",
       "      <td>0</td>\n",
       "      <td>51</td>\n",
       "    </tr>\n",
       "  </tbody>\n",
       "</table>\n",
       "<p>302 rows × 9 columns</p>\n",
       "</div>"
      ],
      "text/plain": [
       "                                                    Name Platform  \\\n",
       "39                                             Max Payne       XB   \n",
       "58                                      Midnight Club II       XB   \n",
       "73             Fantastic Four: Rise of the Silver Surfer      Wii   \n",
       "120                       Ford Mustang: The Legend Lives       XB   \n",
       "153              Ni Hao, Kai-lan: New Year's Celebration       DS   \n",
       "...                                                  ...      ...   \n",
       "11645  Royal Palace of White Sword and The City of Ge...       PC   \n",
       "11652                                    The Darkness II       PC   \n",
       "11654                                     Serious Sam II       PC   \n",
       "11674                                            NBA 2K7      PS2   \n",
       "11698                                            NHL 2K9      PS3   \n",
       "\n",
       "       Year_of_Release         Genre             Publisher  NA_Sales  \\\n",
       "39              2001.0       Shooter  Take-Two Interactive    980000   \n",
       "58              2003.0        Racing  Take-Two Interactive    420000   \n",
       "73              2007.0        Action  Take-Two Interactive     40000   \n",
       "120             2005.0        Racing  Take-Two Interactive     70000   \n",
       "153             2009.0          Misc  Take-Two Interactive    190000   \n",
       "...                ...           ...                   ...       ...   \n",
       "11645           2009.0  Role-Playing  Take-Two Interactive         0   \n",
       "11652           2012.0       Shooter  Take-Two Interactive    100000   \n",
       "11654           2005.0       Shooter  Take-Two Interactive         0   \n",
       "11674           2006.0        Sports  Take-Two Interactive    650000   \n",
       "11698           2008.0        Sports  Take-Two Interactive    110000   \n",
       "\n",
       "       EU_Sales  JP_Sales  Critic_Score  \n",
       "39       190000         0            52  \n",
       "58        60000         0            50  \n",
       "73        10000         0            75  \n",
       "120       20000         0            82  \n",
       "153           0         0            93  \n",
       "...         ...       ...           ...  \n",
       "11645     20000         0            54  \n",
       "11652     30000         0            80  \n",
       "11654     10000         0            52  \n",
       "11674     20000         0            44  \n",
       "11698     10000         0            51  \n",
       "\n",
       "[302 rows x 9 columns]"
      ]
     },
     "execution_count": 18,
     "metadata": {},
     "output_type": "execute_result"
    }
   ],
   "source": [
    "Rockstar"
   ]
  },
  {
   "cell_type": "code",
   "execution_count": 19,
   "metadata": {},
   "outputs": [
    {
     "data": {
      "text/html": [
       "<div>\n",
       "<style scoped>\n",
       "    .dataframe tbody tr th:only-of-type {\n",
       "        vertical-align: middle;\n",
       "    }\n",
       "\n",
       "    .dataframe tbody tr th {\n",
       "        vertical-align: top;\n",
       "    }\n",
       "\n",
       "    .dataframe thead th {\n",
       "        text-align: right;\n",
       "    }\n",
       "</style>\n",
       "<table border=\"1\" class=\"dataframe\">\n",
       "  <thead>\n",
       "    <tr style=\"text-align: right;\">\n",
       "      <th></th>\n",
       "      <th>Name</th>\n",
       "      <th>Platform</th>\n",
       "      <th>Year_of_Release</th>\n",
       "      <th>Genre</th>\n",
       "      <th>Publisher</th>\n",
       "      <th>NA_Sales</th>\n",
       "      <th>EU_Sales</th>\n",
       "      <th>JP_Sales</th>\n",
       "      <th>Critic_Score</th>\n",
       "    </tr>\n",
       "  </thead>\n",
       "  <tbody>\n",
       "    <tr>\n",
       "      <th>8</th>\n",
       "      <td>Madden NFL 2003</td>\n",
       "      <td>XB</td>\n",
       "      <td>2002.0</td>\n",
       "      <td>Sports</td>\n",
       "      <td>Electronic Arts</td>\n",
       "      <td>670000</td>\n",
       "      <td>20000</td>\n",
       "      <td>0</td>\n",
       "      <td>75</td>\n",
       "    </tr>\n",
       "    <tr>\n",
       "      <th>30</th>\n",
       "      <td>Tiger Woods PGA Tour 2004</td>\n",
       "      <td>PS2</td>\n",
       "      <td>2003.0</td>\n",
       "      <td>Sports</td>\n",
       "      <td>Electronic Arts</td>\n",
       "      <td>1180000</td>\n",
       "      <td>340000</td>\n",
       "      <td>0</td>\n",
       "      <td>89</td>\n",
       "    </tr>\n",
       "    <tr>\n",
       "      <th>34</th>\n",
       "      <td>Command &amp; Conquer: Red Alert 3 Ultimate Edition</td>\n",
       "      <td>PS3</td>\n",
       "      <td>2009.0</td>\n",
       "      <td>Strategy</td>\n",
       "      <td>Electronic Arts</td>\n",
       "      <td>140000</td>\n",
       "      <td>150000</td>\n",
       "      <td>0</td>\n",
       "      <td>80</td>\n",
       "    </tr>\n",
       "    <tr>\n",
       "      <th>50</th>\n",
       "      <td>FaceBreaker</td>\n",
       "      <td>X360</td>\n",
       "      <td>2008.0</td>\n",
       "      <td>Fighting</td>\n",
       "      <td>Electronic Arts</td>\n",
       "      <td>150000</td>\n",
       "      <td>20000</td>\n",
       "      <td>0</td>\n",
       "      <td>67</td>\n",
       "    </tr>\n",
       "    <tr>\n",
       "      <th>59</th>\n",
       "      <td>Triple Play 2002</td>\n",
       "      <td>XB</td>\n",
       "      <td>2002.0</td>\n",
       "      <td>Sports</td>\n",
       "      <td>Electronic Arts</td>\n",
       "      <td>190000</td>\n",
       "      <td>50000</td>\n",
       "      <td>0</td>\n",
       "      <td>54</td>\n",
       "    </tr>\n",
       "    <tr>\n",
       "      <th>...</th>\n",
       "      <td>...</td>\n",
       "      <td>...</td>\n",
       "      <td>...</td>\n",
       "      <td>...</td>\n",
       "      <td>...</td>\n",
       "      <td>...</td>\n",
       "      <td>...</td>\n",
       "      <td>...</td>\n",
       "      <td>...</td>\n",
       "    </tr>\n",
       "    <tr>\n",
       "      <th>11670</th>\n",
       "      <td>Madden NFL 17</td>\n",
       "      <td>PS3</td>\n",
       "      <td>2016.0</td>\n",
       "      <td>Sports</td>\n",
       "      <td>Electronic Arts</td>\n",
       "      <td>70000</td>\n",
       "      <td>20000</td>\n",
       "      <td>0</td>\n",
       "      <td>76</td>\n",
       "    </tr>\n",
       "    <tr>\n",
       "      <th>11673</th>\n",
       "      <td>FIFA 16</td>\n",
       "      <td>X360</td>\n",
       "      <td>2015.0</td>\n",
       "      <td>Sports</td>\n",
       "      <td>Electronic Arts</td>\n",
       "      <td>570000</td>\n",
       "      <td>880000</td>\n",
       "      <td>0</td>\n",
       "      <td>57</td>\n",
       "    </tr>\n",
       "    <tr>\n",
       "      <th>11676</th>\n",
       "      <td>Medal of Honor: European Assault (All Region s...</td>\n",
       "      <td>PS2</td>\n",
       "      <td>2005.0</td>\n",
       "      <td>Shooter</td>\n",
       "      <td>Electronic Arts</td>\n",
       "      <td>890000</td>\n",
       "      <td>690000</td>\n",
       "      <td>90000</td>\n",
       "      <td>99</td>\n",
       "    </tr>\n",
       "    <tr>\n",
       "      <th>11684</th>\n",
       "      <td>Mercenaries 2: World in Flames</td>\n",
       "      <td>PS3</td>\n",
       "      <td>2008.0</td>\n",
       "      <td>Shooter</td>\n",
       "      <td>Electronic Arts</td>\n",
       "      <td>290000</td>\n",
       "      <td>390000</td>\n",
       "      <td>20000</td>\n",
       "      <td>97</td>\n",
       "    </tr>\n",
       "    <tr>\n",
       "      <th>11686</th>\n",
       "      <td>Madden NFL 09</td>\n",
       "      <td>PSP</td>\n",
       "      <td>2008.0</td>\n",
       "      <td>Sports</td>\n",
       "      <td>Electronic Arts</td>\n",
       "      <td>650000</td>\n",
       "      <td>0</td>\n",
       "      <td>0</td>\n",
       "      <td>51</td>\n",
       "    </tr>\n",
       "  </tbody>\n",
       "</table>\n",
       "<p>931 rows × 9 columns</p>\n",
       "</div>"
      ],
      "text/plain": [
       "                                                    Name Platform  \\\n",
       "8                                        Madden NFL 2003       XB   \n",
       "30                             Tiger Woods PGA Tour 2004      PS2   \n",
       "34       Command & Conquer: Red Alert 3 Ultimate Edition      PS3   \n",
       "50                                           FaceBreaker     X360   \n",
       "59                                      Triple Play 2002       XB   \n",
       "...                                                  ...      ...   \n",
       "11670                                      Madden NFL 17      PS3   \n",
       "11673                                            FIFA 16     X360   \n",
       "11676  Medal of Honor: European Assault (All Region s...      PS2   \n",
       "11684                     Mercenaries 2: World in Flames      PS3   \n",
       "11686                                      Madden NFL 09      PSP   \n",
       "\n",
       "       Year_of_Release     Genre        Publisher  NA_Sales  EU_Sales  \\\n",
       "8               2002.0    Sports  Electronic Arts    670000     20000   \n",
       "30              2003.0    Sports  Electronic Arts   1180000    340000   \n",
       "34              2009.0  Strategy  Electronic Arts    140000    150000   \n",
       "50              2008.0  Fighting  Electronic Arts    150000     20000   \n",
       "59              2002.0    Sports  Electronic Arts    190000     50000   \n",
       "...                ...       ...              ...       ...       ...   \n",
       "11670           2016.0    Sports  Electronic Arts     70000     20000   \n",
       "11673           2015.0    Sports  Electronic Arts    570000    880000   \n",
       "11676           2005.0   Shooter  Electronic Arts    890000    690000   \n",
       "11684           2008.0   Shooter  Electronic Arts    290000    390000   \n",
       "11686           2008.0    Sports  Electronic Arts    650000         0   \n",
       "\n",
       "       JP_Sales  Critic_Score  \n",
       "8             0            75  \n",
       "30            0            89  \n",
       "34            0            80  \n",
       "50            0            67  \n",
       "59            0            54  \n",
       "...         ...           ...  \n",
       "11670         0            76  \n",
       "11673         0            57  \n",
       "11676     90000            99  \n",
       "11684     20000            97  \n",
       "11686         0            51  \n",
       "\n",
       "[931 rows x 9 columns]"
      ]
     },
     "execution_count": 19,
     "metadata": {},
     "output_type": "execute_result"
    }
   ],
   "source": [
    "EA"
   ]
  },
  {
   "cell_type": "code",
   "execution_count": 20,
   "metadata": {},
   "outputs": [
    {
     "data": {
      "text/html": [
       "<div>\n",
       "<style scoped>\n",
       "    .dataframe tbody tr th:only-of-type {\n",
       "        vertical-align: middle;\n",
       "    }\n",
       "\n",
       "    .dataframe tbody tr th {\n",
       "        vertical-align: top;\n",
       "    }\n",
       "\n",
       "    .dataframe thead th {\n",
       "        text-align: right;\n",
       "    }\n",
       "</style>\n",
       "<table border=\"1\" class=\"dataframe\">\n",
       "  <thead>\n",
       "    <tr style=\"text-align: right;\">\n",
       "      <th></th>\n",
       "      <th>Name</th>\n",
       "      <th>Platform</th>\n",
       "      <th>Year_of_Release</th>\n",
       "      <th>Genre</th>\n",
       "      <th>Publisher</th>\n",
       "      <th>NA_Sales</th>\n",
       "      <th>EU_Sales</th>\n",
       "      <th>JP_Sales</th>\n",
       "      <th>Critic_Score</th>\n",
       "    </tr>\n",
       "  </thead>\n",
       "  <tbody>\n",
       "    <tr>\n",
       "      <th>1</th>\n",
       "      <td>New Super Mario Bros. U</td>\n",
       "      <td>WiiU</td>\n",
       "      <td>2012.0</td>\n",
       "      <td>Platform</td>\n",
       "      <td>Nintendo</td>\n",
       "      <td>2300000</td>\n",
       "      <td>1340000</td>\n",
       "      <td>1270000</td>\n",
       "      <td>82</td>\n",
       "    </tr>\n",
       "    <tr>\n",
       "      <th>12</th>\n",
       "      <td>Devil's Third</td>\n",
       "      <td>WiiU</td>\n",
       "      <td>2015.0</td>\n",
       "      <td>Action</td>\n",
       "      <td>Nintendo</td>\n",
       "      <td>40000</td>\n",
       "      <td>20000</td>\n",
       "      <td>0</td>\n",
       "      <td>73</td>\n",
       "    </tr>\n",
       "    <tr>\n",
       "      <th>88</th>\n",
       "      <td>Gameboy Gallery</td>\n",
       "      <td>GB</td>\n",
       "      <td>1995.0</td>\n",
       "      <td>Misc</td>\n",
       "      <td>Nintendo</td>\n",
       "      <td>0</td>\n",
       "      <td>0</td>\n",
       "      <td>300000</td>\n",
       "      <td>80</td>\n",
       "    </tr>\n",
       "    <tr>\n",
       "      <th>99</th>\n",
       "      <td>Wii Sports Resort</td>\n",
       "      <td>Wii</td>\n",
       "      <td>2009.0</td>\n",
       "      <td>Sports</td>\n",
       "      <td>Nintendo</td>\n",
       "      <td>15610000</td>\n",
       "      <td>10930000</td>\n",
       "      <td>3280000</td>\n",
       "      <td>86</td>\n",
       "    </tr>\n",
       "    <tr>\n",
       "      <th>105</th>\n",
       "      <td>Super Mario Land 2: 6 Golden Coins</td>\n",
       "      <td>GB</td>\n",
       "      <td>1992.0</td>\n",
       "      <td>Adventure</td>\n",
       "      <td>Nintendo</td>\n",
       "      <td>6160000</td>\n",
       "      <td>2040000</td>\n",
       "      <td>2690000</td>\n",
       "      <td>73</td>\n",
       "    </tr>\n",
       "    <tr>\n",
       "      <th>...</th>\n",
       "      <td>...</td>\n",
       "      <td>...</td>\n",
       "      <td>...</td>\n",
       "      <td>...</td>\n",
       "      <td>...</td>\n",
       "      <td>...</td>\n",
       "      <td>...</td>\n",
       "      <td>...</td>\n",
       "      <td>...</td>\n",
       "    </tr>\n",
       "    <tr>\n",
       "      <th>11565</th>\n",
       "      <td>Fire Emblem: Fuuin no Tsurugi</td>\n",
       "      <td>GBA</td>\n",
       "      <td>2002.0</td>\n",
       "      <td>Role-Playing</td>\n",
       "      <td>Nintendo</td>\n",
       "      <td>0</td>\n",
       "      <td>0</td>\n",
       "      <td>390000</td>\n",
       "      <td>49</td>\n",
       "    </tr>\n",
       "    <tr>\n",
       "      <th>11567</th>\n",
       "      <td>LEGO City Undercover</td>\n",
       "      <td>WiiU</td>\n",
       "      <td>2013.0</td>\n",
       "      <td>Platform</td>\n",
       "      <td>Nintendo</td>\n",
       "      <td>470000</td>\n",
       "      <td>420000</td>\n",
       "      <td>130000</td>\n",
       "      <td>55</td>\n",
       "    </tr>\n",
       "    <tr>\n",
       "      <th>11582</th>\n",
       "      <td>Osu! Tatakae! Ouendan</td>\n",
       "      <td>DS</td>\n",
       "      <td>2005.0</td>\n",
       "      <td>Misc</td>\n",
       "      <td>Nintendo</td>\n",
       "      <td>0</td>\n",
       "      <td>0</td>\n",
       "      <td>60000</td>\n",
       "      <td>90</td>\n",
       "    </tr>\n",
       "    <tr>\n",
       "      <th>11591</th>\n",
       "      <td>Mario vs. Donkey Kong: Mini-Land Mayhem!</td>\n",
       "      <td>DS</td>\n",
       "      <td>2010.0</td>\n",
       "      <td>Puzzle</td>\n",
       "      <td>Nintendo</td>\n",
       "      <td>1630000</td>\n",
       "      <td>510000</td>\n",
       "      <td>350000</td>\n",
       "      <td>60</td>\n",
       "    </tr>\n",
       "    <tr>\n",
       "      <th>11693</th>\n",
       "      <td>Itoi Shigesato no Bass Tsuri No. 1 Ketteihan!</td>\n",
       "      <td>N64</td>\n",
       "      <td>2000.0</td>\n",
       "      <td>Sports</td>\n",
       "      <td>Nintendo</td>\n",
       "      <td>0</td>\n",
       "      <td>0</td>\n",
       "      <td>70000</td>\n",
       "      <td>43</td>\n",
       "    </tr>\n",
       "  </tbody>\n",
       "</table>\n",
       "<p>499 rows × 9 columns</p>\n",
       "</div>"
      ],
      "text/plain": [
       "                                                Name Platform  \\\n",
       "1                            New Super Mario Bros. U     WiiU   \n",
       "12                                     Devil's Third     WiiU   \n",
       "88                                   Gameboy Gallery       GB   \n",
       "99                                 Wii Sports Resort      Wii   \n",
       "105               Super Mario Land 2: 6 Golden Coins       GB   \n",
       "...                                              ...      ...   \n",
       "11565                  Fire Emblem: Fuuin no Tsurugi      GBA   \n",
       "11567                           LEGO City Undercover     WiiU   \n",
       "11582                          Osu! Tatakae! Ouendan       DS   \n",
       "11591       Mario vs. Donkey Kong: Mini-Land Mayhem!       DS   \n",
       "11693  Itoi Shigesato no Bass Tsuri No. 1 Ketteihan!      N64   \n",
       "\n",
       "       Year_of_Release         Genre Publisher  NA_Sales  EU_Sales  JP_Sales  \\\n",
       "1               2012.0      Platform  Nintendo   2300000   1340000   1270000   \n",
       "12              2015.0        Action  Nintendo     40000     20000         0   \n",
       "88              1995.0          Misc  Nintendo         0         0    300000   \n",
       "99              2009.0        Sports  Nintendo  15610000  10930000   3280000   \n",
       "105             1992.0     Adventure  Nintendo   6160000   2040000   2690000   \n",
       "...                ...           ...       ...       ...       ...       ...   \n",
       "11565           2002.0  Role-Playing  Nintendo         0         0    390000   \n",
       "11567           2013.0      Platform  Nintendo    470000    420000    130000   \n",
       "11582           2005.0          Misc  Nintendo         0         0     60000   \n",
       "11591           2010.0        Puzzle  Nintendo   1630000    510000    350000   \n",
       "11693           2000.0        Sports  Nintendo         0         0     70000   \n",
       "\n",
       "       Critic_Score  \n",
       "1                82  \n",
       "12               73  \n",
       "88               80  \n",
       "99               86  \n",
       "105              73  \n",
       "...             ...  \n",
       "11565            49  \n",
       "11567            55  \n",
       "11582            90  \n",
       "11591            60  \n",
       "11693            43  \n",
       "\n",
       "[499 rows x 9 columns]"
      ]
     },
     "execution_count": 20,
     "metadata": {},
     "output_type": "execute_result"
    }
   ],
   "source": [
    "Nintendo"
   ]
  },
  {
   "cell_type": "markdown",
   "metadata": {},
   "source": [
    "\n",
    "Hasta este punto mostramos las clases para ver que se crearon estas con su respectivo parametro de seleccion."
   ]
  },
  {
   "cell_type": "markdown",
   "metadata": {},
   "source": [
    "## 2. Estadistica de los datos."
   ]
  },
  {
   "cell_type": "markdown",
   "metadata": {},
   "source": [
    "Vamos a ver como podemos sacar la suma de todas las ventas de la Base de Datos total en ventas en Norte America."
   ]
  },
  {
   "cell_type": "code",
   "execution_count": 178,
   "metadata": {},
   "outputs": [
    {
     "data": {
      "text/plain": [
       "3150760000"
      ]
     },
     "execution_count": 178,
     "metadata": {},
     "output_type": "execute_result"
    }
   ],
   "source": [
    "games2['NA_Sales'].sum()"
   ]
  },
  {
   "cell_type": "markdown",
   "metadata": {},
   "source": [
    "Como resultado obtenemos 3150760000 que esta dado en dolares solo en Norte America."
   ]
  },
  {
   "cell_type": "code",
   "execution_count": 283,
   "metadata": {},
   "outputs": [
    {
     "data": {
      "text/plain": [
       "925990000"
      ]
     },
     "execution_count": 283,
     "metadata": {},
     "output_type": "execute_result"
    }
   ],
   "source": [
    "games2['JP_Sales'].sum()"
   ]
  },
  {
   "cell_type": "markdown",
   "metadata": {},
   "source": [
    "Como resultado obtenemos 925990000 que esta dado en dolares solo en Japon."
   ]
  },
  {
   "cell_type": "code",
   "execution_count": 284,
   "metadata": {},
   "outputs": [
    {
     "data": {
      "text/plain": [
       "1722520000"
      ]
     },
     "execution_count": 284,
     "metadata": {},
     "output_type": "execute_result"
    }
   ],
   "source": [
    "games2['EU_Sales'].sum()"
   ]
  },
  {
   "cell_type": "markdown",
   "metadata": {},
   "source": [
    "Como resultado obtenemos 1722520000 que esta dado en dolares solo en Estados Unidos."
   ]
  },
  {
   "cell_type": "markdown",
   "metadata": {},
   "source": [
    "## 3.Graficas"
   ]
  },
  {
   "cell_type": "markdown",
   "metadata": {},
   "source": [
    "#### 3.1 Analisis de videojuegos por consola. (Base de datos General y algunos Generos de videojuegos)"
   ]
  },
  {
   "cell_type": "markdown",
   "metadata": {},
   "source": [
    "1. Para esta grafica de tipo Histograma, vamos a trabajar la distribucion de juegos segun la plataforma (Consola), en este caso en particular se usara toda la Base de Datos de los videojuegos, el cual el conteo incluye la cantidad total de videojuegos segun la consola. Para realizar usamos todos los datos de la columna \"Platform\", con la funcion value_counts() para contar todos los videojuegos por consola. Y se obtiene el siguiente histograma."
   ]
  },
  {
   "cell_type": "code",
   "execution_count": 98,
   "metadata": {},
   "outputs": [
    {
     "data": {
      "text/plain": [
       "<matplotlib.axes._subplots.AxesSubplot at 0x223fc6af7c8>"
      ]
     },
     "execution_count": 98,
     "metadata": {},
     "output_type": "execute_result"
    },
    {
     "data": {
      "image/png": "[encoded data removed]",
      "text/plain": [
       "<Figure size 432x288 with 1 Axes>"
      ]
     },
     "metadata": {
      "needs_background": "light"
     },
     "output_type": "display_data"
    }
   ],
   "source": [
    "plt.title(\"Cantidad de videojuegos segun su Plataforma\")  \n",
    "plt.xlabel(\"Plataformas\")\n",
    "plt.ylabel(\"Cantidad de videojuegos por consola\")\n",
    "games2['Platform'].value_counts().plot.bar()"
   ]
  },
  {
   "cell_type": "markdown",
   "metadata": {},
   "source": [
    "* El resultado que obtenemos es que como plataforma con mayor cantidad de videojuegos es la PlayStation 2 lo cual supera mas de los 1400 juegos totales de consolas, esto se debe a que muchos de los videojuegos historicamente fueron lanzados para PS2, lo cual el mercado y distribucion al nivel mundial hizo que fuera una plataforma (consola) facil de comprar videojuegos. Asi mismo tenemos como segundo lugar al Nintendo DS con mayores ventas a pesar de ser una consola portatil. La razones se ventas de videojuegos y popularidad de consolas se debe a que tan variado es el catalogo de las plataformas. Si tenemos una consola de 3D0 o GG pero no hay variedad en videojuegos el exito no es positivo asi como se puede ver en el histograma, ya que son casi nulas."
   ]
  },
  {
   "cell_type": "markdown",
   "metadata": {},
   "source": [
    "2. Para una genero especifico en este caso Carreras, vamos a ver como se distribuye con este histograma la cantidad de videojuegos lanzados segun la plataforma. Para este caso vamos a utilizar la columna de Platform donde se hara el conteo de juegos por consola."
   ]
  },
  {
   "cell_type": "code",
   "execution_count": 96,
   "metadata": {},
   "outputs": [
    {
     "data": {
      "text/plain": [
       "<matplotlib.axes._subplots.AxesSubplot at 0x223fb720ac8>"
      ]
     },
     "execution_count": 96,
     "metadata": {},
     "output_type": "execute_result"
    },
    {
     "data": {
      "image/png": "[encoded data removed]",
      "text/plain": [
       "<Figure size 432x288 with 1 Axes>"
      ]
     },
     "metadata": {
      "needs_background": "light"
     },
     "output_type": "display_data"
    }
   ],
   "source": [
    "plt.title(\"Cantidad de videojuegos segun la Plataforma del genero de 'Carreras'\")  \n",
    "plt.xlabel(\"Plataformas\")\n",
    "plt.ylabel(\"Cantidad de videojuegos por consola\")\n",
    "Carreras['Platform'].value_counts().plot.bar()"
   ]
  },
  {
   "cell_type": "markdown",
   "metadata": {},
   "source": [
    "* Como resultado obtenemos que la plataforma con mayor cantidad de juegos de genero Carreras es la PS2 (PlayStation 2), teniendo más de 140 videojuegos, después tenemos PS (PlayStation) con más de 100 juegos. así como menor cantidad de videojuegos SDC (Sega CD) y Gen(Sega Genesis) lo cual podemos ver que para estas consolas no hay casi videojuegos."
   ]
  },
  {
   "cell_type": "markdown",
   "metadata": {},
   "source": [
    "3. Para el género de Peleas también se hará el procedimiento anterior solo que ahora utilizando la clase de Peleas. El cual podemos obtener el siguiente gráfico."
   ]
  },
  {
   "cell_type": "code",
   "execution_count": 86,
   "metadata": {},
   "outputs": [
    {
     "data": {
      "text/plain": [
       "<matplotlib.axes._subplots.AxesSubplot at 0x223fb4dd348>"
      ]
     },
     "execution_count": 86,
     "metadata": {},
     "output_type": "execute_result"
    },
    {
     "data": {
      "image/png": "[encoded data removed]",
      "text/plain": [
       "<Figure size 432x288 with 1 Axes>"
      ]
     },
     "metadata": {
      "needs_background": "light"
     },
     "output_type": "display_data"
    }
   ],
   "source": [
    "plt.title(\"Cantidad de videojuegos segun la Plataforma del genero de 'Peleas'\")  \n",
    "plt.xlabel(\"Plataformas\")\n",
    "plt.ylabel(\"Cantidad de videojuegos por consola\")\n",
    "Peleas['Platform'].value_counts().plot.bar()"
   ]
  },
  {
   "cell_type": "markdown",
   "metadata": {},
   "source": [
    "* El resultado que observamos es que la PS2 (PlayStation 2) sigue teniendo mayor cantidad de videojuegos en este caso de peleas. Al igual PS y PS3, consolas de la misma empresa. Pero esta vez tomando en cuenta PC (Computadora) y 2600(Atari 2600) son las Plataformas con menor cantidad de videojuegos de este género."
   ]
  },
  {
   "cell_type": "markdown",
   "metadata": {},
   "source": [
    "4. El mismo procedimiento como la anterior, usamos la clase de disparos y veremos la cantidad de videojuegos que existen de este genero."
   ]
  },
  {
   "cell_type": "code",
   "execution_count": 183,
   "metadata": {},
   "outputs": [
    {
     "data": {
      "text/plain": [
       "<matplotlib.axes._subplots.AxesSubplot at 0x223fc283908>"
      ]
     },
     "execution_count": 183,
     "metadata": {},
     "output_type": "execute_result"
    },
    {
     "data": {
      "image/png": "[encoded data removed]",
      "text/plain": [
       "<Figure size 432x288 with 1 Axes>"
      ]
     },
     "metadata": {
      "needs_background": "light"
     },
     "output_type": "display_data"
    }
   ],
   "source": [
    "plt.title(\"Cantidad de videojuegos segun la Plataforma del genero de 'Disparos'\")  \n",
    "plt.xlabel(\"Plataformas\")\n",
    "plt.ylabel(\"Cantidad de videojuegos por consola\")\n",
    "Disparos['Platform'].value_counts().plot.bar()"
   ]
  },
  {
   "cell_type": "markdown",
   "metadata": {},
   "source": [
    "* Como resultado obtenemos que la Plataforma con mayor cantidad de videojuegos de Disparos es X360 (Xbox 360) con 140 tomando mayor ventaja ante PS2 que en las anteriores graficas mostro un dominio. Sin embargo, PS2 está en segundo lugar con más de 100 videojuegos y en esta ocasión vemos a la PC (Computadora) como plataforma con cantidad de videojuegos. Al igual GEN (Sega Genesis sigue teniendo poca cantidad de videojuegos de este género."
   ]
  },
  {
   "cell_type": "markdown",
   "metadata": {},
   "source": [
    "### 3.2 Analisis de videojuegos por Empresa."
   ]
  },
  {
   "cell_type": "markdown",
   "metadata": {},
   "source": [
    "Para el análisis de las empresas se seleccionaron por interés del equipo y curiosidad de experimentar con estas empresas y por los videojuegos que estas tienen en sus catálogos. Veremos cómo podemos aplicar graficas para observar videojuegos más vendidos en Japón o Norte América, Años con mayores ventas y cantidad de videojuegos lanzados por consola. Utilizaremos graficas de pastel para intentar realizar estas aplicaciones que nosotros queremos realizar."
   ]
  },
  {
   "cell_type": "markdown",
   "metadata": {},
   "source": [
    "#### Empresa: SNK"
   ]
  },
  {
   "cell_type": "markdown",
   "metadata": {},
   "source": [
    "###### Grafica de Ventas en Japon de la empresa SNK.\n",
    "* Para esta grafica utilizaremos la clase de SNK, usaremos una variable suma para ir acumulado los videojuegos, usaremos como parametros el Nombre, y como variable para distribuir el ancho de cada rebanada o parte de la grafica se usara la columna de JP_Sales."
   ]
  },
  {
   "cell_type": "code",
   "execution_count": 32,
   "metadata": {},
   "outputs": [
    {
     "name": "stdout",
     "output_type": "stream",
     "text": [
      "\n",
      "\n"
     ]
    },
    {
     "data": {
      "image/png": "[encoded data removed]",
      "text/plain": [
       "<Figure size 432x288 with 1 Axes>"
      ]
     },
     "metadata": {},
     "output_type": "display_data"
    }
   ],
   "source": [
    "from matplotlib.pyplot import pie, axis, show\n",
    "plt.title(\"Titulo: Ventas en Japon de videojuegos de SNK \")  \n",
    "sums = SNK.groupby(SNK[\"Name\"])[\"JP_Sales\"].sum().head(10)\n",
    "axis('equal');\n",
    "#pie(sums,autopct='%.2f%%',startangle=200,labels=sums.index);\n",
    "pie(sums,  autopct='%.2f%%');\n",
    "plt.legend(labels=sums.index)\n",
    "print(\"\\n\")\n",
    "\n",
    "\n",
    "plt.tight_layout()\n",
    "show()"
   ]
  },
  {
   "cell_type": "markdown",
   "metadata": {},
   "source": [
    "* En esta grafica como resultado obtenemos que la empresa SNK el videojuego con mayor venta en Japón fue The King of Fighters 96, el cual se puede observar en la sección gris, como segundo juego tenemos The King of Fighters 95. Tomando en cuenta que solo se hizo la gráfica solo con 10 videojuegos con mayor venta, como menor juego representado en color azul es el Garou Densetsu 3 : Road to the Final Victory. Lo cual la saga de The King of fighters desde 95 hasta 98 teninan grandes v ventas. Dicho mercado hoy en dia para estos juegos en muy grande, lo cual las criticas casi no reducen con el pasar de los años."
   ]
  },
  {
   "cell_type": "markdown",
   "metadata": {},
   "source": [
    "###### Grafica con mayor ventas de SNK segun el año."
   ]
  },
  {
   "cell_type": "markdown",
   "metadata": {},
   "source": [
    "* Para esta grafica queremos ver que año SNK obtuvo mayores ventas en Japon. Para construirla utilizamos una varialble sums el cual vamos a ir acumulando la cantidad de ventas con respecto al año, esto esta dado por las variables de Year_of_Release y JP_Sales. y Obtenemos el siguiente grafico."
   ]
  },
  {
   "cell_type": "code",
   "execution_count": 31,
   "metadata": {},
   "outputs": [
    {
     "data": {
      "image/png": "[encoded data removed]",
      "text/plain": [
       "<Figure size 432x288 with 1 Axes>"
      ]
     },
     "metadata": {},
     "output_type": "display_data"
    }
   ],
   "source": [
    "plt.title(\"Titulo: Ventas en Japon por Años de SNK \")\n",
    "sums = SNK.groupby(SNK[\"Year_of_Release\"])[\"JP_Sales\"].sum().head(10)\n",
    "\n",
    "#pie(sums, labels=sums.index,autopct='%.2f%%');\n",
    "pie(sums,  autopct='%.2f%%');\n",
    "plt.legend(labels=sums.index);\n",
    "axis('equal')\n",
    "show()\n"
   ]
  },
  {
   "cell_type": "markdown",
   "metadata": {},
   "source": [
    "* En esta grafica como resultado obtenemos que el año en que SNK vendió más videojuegos fue en 1996. Esto está dado por el color rojo, después como segundo lugar 1995. Los años de menor venta como el año 2000 se debe a que tenía problemas y al estar unido con PLAYMORE, este lo podemos observar en color gris. Con este grafico podemos observar como las ventas se fueron dando en SNK y esto demuestra que en 1996 fue de sus unicas ventas grandes antes de entrar en problemas de la empresa."
   ]
  },
  {
   "cell_type": "markdown",
   "metadata": {},
   "source": [
    "###### Grafica con mayor cantidad de videojuegos segun la plataforma."
   ]
  },
  {
   "cell_type": "markdown",
   "metadata": {},
   "source": [
    "* Para ver la distribución de SNK dada a los videojuegos que fueron lanzados según la consola, haremos un gráfico utilizando las columnas de Platform y Critic_Score ya que las críticas son por cada videojuego lanzado, lo cual haremos una variable sums para hacer la acumulación de la cantidad de críticas que es el conteo de videojuego, y veremos a continuación el grafico."
   ]
  },
  {
   "cell_type": "code",
   "execution_count": 269,
   "metadata": {},
   "outputs": [
    {
     "data": {
      "image/png": "[encoded data removed]",
      "text/plain": [
       "<Figure size 432x288 with 1 Axes>"
      ]
     },
     "metadata": {},
     "output_type": "display_data"
    }
   ],
   "source": [
    "plt.title(\"Cantidad de juegos de SNK segun su plataforma\")  \n",
    "sums = SNK.groupby(SNK[\"Platform\"])[\"Critic_Score\"].sum()\n",
    "axis('equal');\n",
    "#pie(sums, labels=sums.index,autopct='%.2f%%');\n",
    "pie(sums,  autopct='%.2f%%');\n",
    "plt.legend(labels=sums.index,)\n",
    "\n",
    "show()\n",
    "\n"
   ]
  },
  {
   "cell_type": "markdown",
   "metadata": {},
   "source": [
    "* Como observamos el resultado es que la consola NG (Neo Geo) representada en color naranja es la consola con mayor cantidad de videojuegos, depues tenemos en color rojo a Sega Saturno, en azul como tercer lugar DC (Dream Cast) y ultimo lugar en color verde PlayStation. De esta manera podemos ver la proporcion de videojuegos lanzados por consola, lo cual aunque no halla tenido variedad de juegos para otras consolas denota un mercado grande en Japon."
   ]
  },
  {
   "cell_type": "markdown",
   "metadata": {},
   "source": [
    "##### Empresa: EA (Electronic Arts)"
   ]
  },
  {
   "cell_type": "markdown",
   "metadata": {},
   "source": [
    "###### Grafica de Ventas en Norte America de la empresa EA.\n",
    "* Para esta grafica utilizaremos la clase de EA, usaremos una variable suma para ir acumulado los videojuegos, usaremos como parametros el Nombre, y como variable para distribuir el ancho de cada rebanada o parte de la grafica se usara la columna de NA_Sales."
   ]
  },
  {
   "cell_type": "code",
   "execution_count": 273,
   "metadata": {},
   "outputs": [
    {
     "data": {
      "image/png": "[encoded data removed]",
      "text/plain": [
       "<Figure size 432x288 with 1 Axes>"
      ]
     },
     "metadata": {},
     "output_type": "display_data"
    }
   ],
   "source": [
    "from matplotlib.pyplot import pie, axis, show\n",
    "plt.title(\"Titulo: Ventas en Norte America de videojuegos de EA \")  \n",
    "sums = EA.groupby(EA[\"Name\"])[\"NA_Sales\"].sum().head(10)\n",
    "axis('equal');\n",
    "#pie(sums, labels=sums.index,autopct='%.2f%%');\n",
    "pie(sums,  autopct='%.2f%%');\n",
    "plt.legend(labels=sums.index,)\n",
    "\n",
    "show()"
   ]
  },
  {
   "cell_type": "markdown",
   "metadata": {},
   "source": [
    "* En esta grafica el resultado es que el videojuego con mayor venta es 007: Tomorrow NEver Dies, esto lo podemos observar en color verde. Como segundo lugar tenemos al 2010 FIFA World Cup South Africa en color morado. Pero como menor venta de EA podemos observar al 2014 FIFA World Cup Brazil en cafe y ALL Points Bulletin en color gris como menores ventas."
   ]
  },
  {
   "cell_type": "markdown",
   "metadata": {},
   "source": [
    "###### Grafica con mayor ventas de EA segun el año."
   ]
  },
  {
   "cell_type": "markdown",
   "metadata": {},
   "source": [
    "Para esta grafica veremos el año con mayores ventas en la empresa EA, tomando en cuanta la columna de Year_of_Release y NA_Sales igual el procedimiento con SNK. Y obtenemos la siguiente grafica."
   ]
  },
  {
   "cell_type": "code",
   "execution_count": 282,
   "metadata": {},
   "outputs": [
    {
     "data": {
      "image/png": "[encoded data removed]",
      "text/plain": [
       "<Figure size 432x288 with 1 Axes>"
      ]
     },
     "metadata": {},
     "output_type": "display_data"
    }
   ],
   "source": [
    "plt.title(\"Titulo: Ventas en Norte America por Años de EA \")\n",
    "sums = EA.groupby(EA[\"Year_of_Release\"])[\"NA_Sales\"].sum().head(10)\n",
    "axis('equal');\n",
    "#pie(sums, labels=sums.index);\n",
    "pie(sums,  autopct='%.2f%%');\n",
    "plt.legend(labels=sums.index,)\n",
    "\n",
    "show()\n"
   ]
  },
  {
   "cell_type": "markdown",
   "metadata": {},
   "source": [
    "* El resultado nos da que EA vendio mas videojuegos en el año 2003 en color azul turqueza, tomando como segundo lugar en colo verde claro el año 2002 y el año con menor venta 1994 representado en color azul. Lo cual la distribucion de videojuegos para Japon de EA no es muy alta demanda de juegos de esa empresa como sus demas competencias."
   ]
  },
  {
   "cell_type": "markdown",
   "metadata": {},
   "source": [
    "###### Grafica con mayor cantidad de videojuegos segun la plataforma de EA."
   ]
  },
  {
   "cell_type": "markdown",
   "metadata": {},
   "source": [
    "Tomando en cuenta procesos anteriores, para elaborar nuestro grafico se utiliza la columna de Critic_Score y Platform, esto al realizar la grafica nos muestra lo siguiente."
   ]
  },
  {
   "cell_type": "code",
   "execution_count": 276,
   "metadata": {},
   "outputs": [
    {
     "data": {
      "image/png": "[encoded data removed]",
      "text/plain": [
       "<Figure size 432x288 with 1 Axes>"
      ]
     },
     "metadata": {},
     "output_type": "display_data"
    }
   ],
   "source": [
    "from matplotlib.pyplot import pie, axis, show\n",
    "plt.title(\"Cantidad de juegos de EA segun su plataforma\")  \n",
    "sums = EA.groupby(EA[\"Platform\"])[\"Critic_Score\"].sum().head(10)\n",
    "axis('equal');\n",
    "pie(sums,  autopct='%.2f%%');\n",
    "plt.legend(labels=sums.index,)\n",
    "\n",
    "show()"
   ]
  },
  {
   "cell_type": "markdown",
   "metadata": {},
   "source": [
    "* El resultado obtenido es que EA tiene mas cantidad de videojuegos de la consola de PS2 representado en color verde claro. Despues en color azul turquesa la plataforma de PS3 el cual como hemos visto anteriormente PS tiene uno de los catalagos mas grandes del mercado y de los que hayan existido. Por eso se da la popularidad de esta consola. Como consola con menor cantidad es GB(GameBoy) que es una plataforma movil de los 90s lo cual EA casi no lanzo juegos de esta plataforma."
   ]
  },
  {
   "cell_type": "markdown",
   "metadata": {},
   "source": [
    "##### Empresa: Capcom"
   ]
  },
  {
   "cell_type": "markdown",
   "metadata": {},
   "source": [
    "###### Grafica de Ventas en Japon de la empresa Capcom.\n",
    "* Para esta grafica utilizaremos la clase de Capcom, usaremos una variable suma para ir acumulado los videojuegos, usaremos como parametros el Nombre, y como variable para distribuir el ancho de cada rebanada o parte de la grafica se usara la columna de JP_Sales."
   ]
  },
  {
   "cell_type": "code",
   "execution_count": 262,
   "metadata": {},
   "outputs": [
    {
     "data": {
      "image/png": "[encoded data removed]",
      "text/plain": [
       "<Figure size 432x288 with 1 Axes>"
      ]
     },
     "metadata": {},
     "output_type": "display_data"
    }
   ],
   "source": [
    "from matplotlib.pyplot import pie, axis, show\n",
    "plt.title(\"Titulo: Ventas en Japon de videojuegos de Capcom \")  \n",
    "sums = Capcom.groupby(Capcom[\"Name\"])[\"JP_Sales\"].sum().head(10)\n",
    "axis('equal');\n",
    "pie(sums,  autopct='%.2f%%' );\n",
    "plt.legend(labels=sums.index,)\n",
    "plt.tight_layout()\n",
    "show()"
   ]
  },
  {
   "cell_type": "markdown",
   "metadata": {},
   "source": [
    "* El resultado obtenido es que el juego con mayor venta en Japon de Capcom es Ace Attorney 6 representado en color naranja, depues en color verde  Ace Attorney Investigations 2 y como menor venta Black Cat. Lo que hace que 3 de los juegos vistos en el grafico son exitos, ya que solo 3 abarcan casi el total de ventas de solo Japon."
   ]
  },
  {
   "cell_type": "markdown",
   "metadata": {},
   "source": [
    "###### Grafica con mayor ventas de Capcom segun el año."
   ]
  },
  {
   "cell_type": "markdown",
   "metadata": {},
   "source": [
    "Se utilizaran las columnas de Year_of_Release y JP_Sales como las anteriores pero con datos de Capcom. Realizamos la grafica y obtenemos lo siguiente."
   ]
  },
  {
   "cell_type": "code",
   "execution_count": 267,
   "metadata": {},
   "outputs": [
    {
     "data": {
      "image/png": "[encoded data removed]",
      "text/plain": [
       "<Figure size 432x288 with 1 Axes>"
      ]
     },
     "metadata": {},
     "output_type": "display_data"
    }
   ],
   "source": [
    "plt.title(\"Titulo: Ventas en Japon por Años de Capcom \")\n",
    "sums = Capcom.groupby(Capcom[\"Year_of_Release\"])[\"JP_Sales\"].sum().head(10)\n",
    "axis('equal');\n",
    "pie(sums,  autopct='%.2f%%');\n",
    "plt.legend(labels=sums.index,)\n",
    "\n",
    "show()"
   ]
  },
  {
   "cell_type": "markdown",
   "metadata": {},
   "source": [
    "* El resultado obtenido es que en el año de 1992 obtuvo mator cantidad de ventas esto en Japon, lo cual años anteriores se observa el año de 1985 como el de menor venta, asi como 1996 que a pesar de ser 3 años depues de sus mayores ventas. Lo cual el comportamiento mas grande a relacion de ventas es 1992."
   ]
  },
  {
   "cell_type": "markdown",
   "metadata": {},
   "source": [
    "###### Grafica con mayor cantidad de videojuegos segun la plataforma de Capcom."
   ]
  },
  {
   "cell_type": "markdown",
   "metadata": {},
   "source": [
    "Para esta grafica igual que las anteriores, para Capcom usaremos la columna de Platform y Critic_Score, para despues obtener el siguiente grafico."
   ]
  },
  {
   "cell_type": "code",
   "execution_count": 215,
   "metadata": {},
   "outputs": [
    {
     "data": {
      "image/png": "[encoded data removed]",
      "text/plain": [
       "<Figure size 432x288 with 1 Axes>"
      ]
     },
     "metadata": {},
     "output_type": "display_data"
    }
   ],
   "source": [
    "plt.title(\"Cantidad de juegos de Capcom segun su plataforma\")  \n",
    "sums = Capcom.groupby(Capcom[\"Platform\"])[\"Critic_Score\"].sum().head(10)\n",
    "pie(sums, autopct='%.2f%%');  #,labels=sums.index#\n",
    "axis('equal');\n",
    "plt.legend(loc=\"best\",labels=sums.index)\n",
    "show()"
   ]
  },
  {
   "cell_type": "markdown",
   "metadata": {},
   "source": [
    "* El resultado obtenido es que la plataforma con mayor cantidad de videojuegos es DS (Nintendo DS) mostrado en color verde, en segundo lugar tenemos a la 3DS (Nintendo 3DS), en color azul pero como consola con menor cantidad de juegos lanzados por Capcom es la GEN(Sega Genesis) y N64 (Nintendo 64). Por ello podemos ver que el mercado de consolas portatiles fue el que gano mayor variedad de videojuegos de Capcom."
   ]
  },
  {
   "cell_type": "markdown",
   "metadata": {},
   "source": [
    "## Preguntas de Interes.\n",
    "* ¿Cuál es la aceptación de videojuegos dada una empresa (SNK) ?\n",
    "    \n",
    "     R= En el grafico para SNK muchos de los videojuegos se juegan en NG (Neo Geo) lo cual dadas las ventas como referencia y punto especifico del mercado, la popularidad es muy alta ya lo demuestra The king of Fighters 96 que tiene para la empresa SNK como el de mayor venta, las ventas y la disponiibilidad de estar para otras consolas se debe las grandes aceptaciones de la empresa.\n",
    "* ¿Con los datos de la base de datos de videojuegos como se pueden clasificar aplicando algún método de minería de datos?\n",
    "\n",
    "    R= lo que se puede hacer es un clasificador de videojuegos dando datos del género (Genre) y la empresa de videojuegos (Publisher) el cual es una de las formas que se pueden utilizar de manera rápida obteniendo resultados organización de videojuegos.\n",
    "    \n",
    "* ¿Cuál es el comportamiento de las empresas con sus respectivas ventas en Norte América o Japón?\n",
    "    \n",
    "    R= Con el análisis hecho de algunas empresas se notó que Capcom en el mercado de Japón un videojuego que se muestra en la gráfica de pastel representa casi las ventas totales casi el 50 % de las ventas. A comparación de EA 3 videojuegos son los que hacen casi el 50% de las ventas. En cambio, SNK 4 hacen el 50 % de las ventas, es por ello vemos que Capcom tiene un mercado y nivel de aceptacion muy grande en Japón. \n",
    "\n",
    "\n",
    "\n",
    "* ¿Cuál es la plataforma de videojuegos con mayores ventas de videojuegos en un género especifico (peleas,disparos,Carreras) ?   \n",
    "    R= La plataforma con los géneros estudiados es que la plataforma con mayores videojuegos es PS2, históricamente es la consola con uno de los catálogos más amplios que han existido. Lo que también se observo es que Capcom tiene mucho catálogo de videojuegos en consolas portátiles de Nintendo, a comparación de X360 es que se demuestra que el género de disparos es mucho mayor en X360 consola de Microsoft. La distribución de ventas de genero depende mucho de la exclusividad para la consola o la popularidad, tal como se demostró que PS2 tiene mayor cantidad de videojuegos.\n"
   ]
  },
  {
   "cell_type": "code",
   "execution_count": 3,
   "metadata": {},
   "outputs": [
    {
     "data": {
      "text/plain": [
       "Text(0.5, 1.0, 'Cantidad en % por genero total de videojuegos')"
      ]
     },
     "execution_count": 3,
     "metadata": {},
     "output_type": "execute_result"
    },
    {
     "data": {
      "image/png": "[encoded data removed]",
      "text/plain": [
       "<Figure size 504x504 with 1 Axes>"
      ]
     },
     "metadata": {},
     "output_type": "display_data"
    }
   ],
   "source": [
    "labels=games2.Genre.value_counts().index\n",
    "explode = [0,0,0,0,0,0,0,0,0,0,0,0]\n",
    "sizes = games2.Genre.value_counts().values\n",
    "# visual\n",
    "plt.figure(figsize = (7,7))\n",
    "plt.pie(sizes, explode=explode, labels=labels, colors=sn.color_palette('Set2'), autopct='%1.1f%%')\n",
    "plt.title('Cantidad en % por genero total de videojuegos',fontsize = 17,color = 'green')"
   ]
  },
  {
   "cell_type": "code",
   "execution_count": 4,
   "metadata": {},
   "outputs": [
    {
     "data": {
      "image/png": "[encoded data removed]",
      "text/plain": [
       "<Figure size 864x576 with 1 Axes>"
      ]
     },
     "metadata": {
      "needs_background": "light"
     },
     "output_type": "display_data"
    }
   ],
   "source": [
    "y = games2.groupby(['Year_of_Release']).sum()\n",
    "y = y['EU_Sales']\n",
    "x = y.index.astype(int)\n",
    "\n",
    "plt.figure(figsize=(12,8))\n",
    "ax = sn.barplot(y = y, x = x)\n",
    "ax.set_xlabel(xlabel='$ Millions', fontsize=16)\n",
    "ax.set_xticklabels(labels = x, fontsize=12, rotation=50)\n",
    "ax.set_ylabel(ylabel='Year', fontsize=16)\n",
    "ax.set_title(label='Venta de juegos en $ Millones por año en Europa', fontsize=20)\n",
    "plt.show();"
   ]
  },
  {
   "cell_type": "code",
   "execution_count": 6,
   "metadata": {},
   "outputs": [
    {
     "data": {
      "image/png": "[encoded data removed]",
      "text/plain": [
       "<Figure size 864x576 with 1 Axes>"
      ]
     },
     "metadata": {
      "needs_background": "light"
     },
     "output_type": "display_data"
    }
   ],
   "source": [
    "data = games2.groupby(['Publisher']).sum()['NA_Sales']\n",
    "data = pd.DataFrame(data.sort_values(ascending=False))[0:10]\n",
    "publishers = data.index\n",
    "data.columns = ['NA_Sales']\n",
    "\n",
    "colors = sn.color_palette(\"cool\", len(data))\n",
    "plt.figure(figsize=(12,8))\n",
    "ax = sn.barplot(y = publishers , x = 'NA_Sales', data=data, orient='h', palette=colors)\n",
    "ax.set_xlabel(xlabel='Ingresos en $ Millones', fontsize=16)\n",
    "ax.set_ylabel(ylabel='Publisher', fontsize=16)\n",
    "ax.set_title(label='Top 10 Empresas con mayores ventas en NorteAmerica', fontsize=20)\n",
    "ax.set_yticklabels(labels = publishers, fontsize=14)\n",
    "plt.show();"
   ]
  },
  {
   "cell_type": "code",
   "execution_count": 8,
   "metadata": {},
   "outputs": [
    {
     "data": {
      "image/png": "[encoded data removed]",
      "text/plain": [
       "<Figure size 864x576 with 1 Axes>"
      ]
     },
     "metadata": {
      "needs_background": "light"
     },
     "output_type": "display_data"
    }
   ],
   "source": [
    "rel = games2.groupby(['Genre']).count().iloc[:,0]\n",
    "rel = pd.DataFrame(rel.sort_values(ascending=False))\n",
    "genres = rel.index\n",
    "rel.columns = ['Releases']\n",
    "\n",
    "colors = sn.color_palette(\"summer\", len(rel))\n",
    "plt.figure(figsize=(12,8))\n",
    "ax = sn.barplot(y = genres , x = 'Releases', data=rel, orient='h', palette=colors)\n",
    "ax.set_xlabel(xlabel='Cantidad de lanzamiento de videojuegos', fontsize=16)\n",
    "ax.set_ylabel(ylabel='Genre', fontsize=16)\n",
    "ax.set_title(label='Géneros por número total de juegos lanzados', fontsize=20)\n",
    "ax.set_yticklabels(labels = genres, fontsize=14)\n",
    "plt.show();"
   ]
  },
  {
   "cell_type": "code",
   "execution_count": null,
   "metadata": {},
   "outputs": [],
   "source": []
  },
  {
   "cell_type": "code",
   "execution_count": 9,
   "metadata": {},
   "outputs": [
    {
     "data": {
      "image/png": "[encoded data removed]",
      "text/plain": [
       "<Figure size 864x576 with 1 Axes>"
      ]
     },
     "metadata": {
      "needs_background": "light"
     },
     "output_type": "display_data"
    }
   ],
   "source": [
    "data = games2.sum()\n",
    "data = pd.DataFrame([data['EU_Sales'], data['JP_Sales'], data['NA_Sales']])\n",
    "regions = ['European Union', 'Japan', 'North America']\n",
    "data.index = regions\n",
    "data.columns = ['Revenue']\n",
    "data = data.sort_values(by='Revenue', ascending=False)\n",
    "\n",
    "plt.figure(figsize=(12,8))\n",
    "colors = sn.color_palette(\"Dark2\", len(data))\n",
    "ax = sn.barplot(y = regions , x = 'Revenue', data=data, orient='h', palette=colors)\n",
    "ax.set_xlabel(xlabel='Revenue in $ Millions', fontsize=16)\n",
    "ax.set_ylabel(ylabel='Region', fontsize=16)\n",
    "ax.set_title(label='Ingresos totales generados en $ millones por región', fontsize=20)\n",
    "ax.set_yticklabels(labels = regions, fontsize=14)\n",
    "plt.show();"
   ]
  },
  {
   "cell_type": "code",
   "execution_count": null,
   "metadata": {},
   "outputs": [],
   "source": []
  }
 ],
 "metadata": {
  "kernelspec": {
   "display_name": "Python 3",
   "language": "python",
   "name": "python3"
  },
  "language_info": {
   "codemirror_mode": {
    "name": "ipython",
    "version": 3
   },
   "file_extension": ".py",
   "mimetype": "text/x-python",
   "name": "python",
   "nbconvert_exporter": "python",
   "pygments_lexer": "ipython3",
   "version": "3.7.4"
  }
 },
 "nbformat": 4,
 "nbformat_minor": 2
}
